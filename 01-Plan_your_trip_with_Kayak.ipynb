{
 "cells": [
  {
   "cell_type": "markdown",
   "metadata": {},
   "source": [
    "![Kayak](https://seekvectorlogo.com/wp-content/uploads/2018/01/kayak-vector-logo.png)\n",
    "\n",
    "# Plan your trip with Kayak \n",
    "\n",
    "## Company's description 📇\n",
    "\n",
    "<a href=\"https://www.kayak.com\" target=\"_blank\">Kayak</a> is a travel search engine that helps user plan their next trip at the best price.\n",
    "\n",
    "The company was founded in 2004 by Steve Hafner & Paul M. English. After a few rounds of fundraising, Kayak was acquired by <a href=\"https://www.bookingholdings.com/\" target=\"_blank\">Booking Holdings</a> which now holds: \n",
    "\n",
    "* <a href=\"https://booking.com/\" target=\"_blank\">Booking.com</a>\n",
    "* <a href=\"https://kayak.com/\" target=\"_blank\">Kayak</a>\n",
    "* <a href=\"https://www.priceline.com/\" target=\"_blank\">Priceline</a>\n",
    "* <a href=\"https://www.agoda.com/\" target=\"_blank\">Agoda</a>\n",
    "* <a href=\"https://Rentalcars.com/\" target=\"_blank\">RentalCars</a>\n",
    "* <a href=\"https://www.opentable.com/\" target=\"_blank\">OpenTable</a>\n",
    "\n",
    "With over \\$300 million revenue a year, Kayak operates in almost all countries and all languages to help their users book travels accros the globe. "
   ]
  },
  {
   "cell_type": "markdown",
   "metadata": {},
   "source": [
    "## Project 🚧\n",
    "\n",
    "The marketing team needs help on a new project. After doing some user research, the team discovered that **70% of their users who are planning a trip would like to have more information about the destination they are going to**. \n",
    "\n",
    "In addition, user research shows that **people tend to be defiant about the information they are reading if they don't know the brand** which produced the content. \n",
    "\n",
    "Therefore, Kayak Marketing Team would like to create an application that will recommend where people should plan their next holidays. The application should be based on real data about:\n",
    "\n",
    "* Weather \n",
    "* Hotels in the area \n",
    "\n",
    "The application should then be able to recommend the best destinations and hotels based on the above variables at any given time. "
   ]
  },
  {
   "cell_type": "markdown",
   "metadata": {},
   "source": [
    "## Goals 🎯\n",
    "\n",
    "As the project has just started, your team doesn't have any data that can be used to create this application. Therefore, your job will be to: \n",
    "\n",
    "* Scrape data from destinations \n",
    "* Get weather data from each destination \n",
    "* Get hotels' info about each destination\n",
    "* Store all the information above in a data lake\n",
    "* Extract, transform and load cleaned data from your datalake to a data warehouse"
   ]
  },
  {
   "cell_type": "markdown",
   "metadata": {},
   "source": [
    "## Scope of this project 🖼️\n",
    "\n",
    "Marketing team wants to focus first on the best cities to travel to in France. According <a href=\"https://one-week-in.com/35-cities-to-visit-in-france/\" target=\"_blank\">One Week In.com</a> here are the top-35 cities to visit in France: \n",
    "\n",
    "```python \n",
    "[\"Mont Saint Michel\",\n",
    "\"St Malo\",\n",
    "\"Bayeux\",\n",
    "\"Le Havre\",\n",
    "\"Rouen\",\n",
    "\"Paris\",\n",
    "\"Amiens\",\n",
    "\"Lille\",\n",
    "\"Strasbourg\",\n",
    "\"Chateau du Haut Koenigsbourg\",\n",
    "\"Colmar\",\n",
    "\"Eguisheim\",\n",
    "\"Besancon\",\n",
    "\"Dijon\",\n",
    "\"Annecy\",\n",
    "\"Grenoble\",\n",
    "\"Lyon\",\n",
    "\"Gorges du Verdon\",\n",
    "\"Bormes les Mimosas\",\n",
    "\"Cassis\",\n",
    "\"Marseille\",\n",
    "\"Aix en Provence\",\n",
    "\"Avignon\",\n",
    "\"Uzes\",\n",
    "\"Nimes\",\n",
    "\"Aigues Mortes\",\n",
    "\"Saintes Maries de la mer\",\n",
    "\"Collioure\",\n",
    "\"Carcassonne\",\n",
    "\"Ariege\",\n",
    "\"Toulouse\",\n",
    "\"Montauban\",\n",
    "\"Biarritz\",\n",
    "\"Bayonne\",\n",
    "\"La Rochelle\"]\n",
    "```\n",
    "\n",
    "Your team should focus **only on the above cities for your project**. \n"
   ]
  },
  {
   "cell_type": "markdown",
   "metadata": {},
   "source": [
    "## Helpers 🦮\n",
    "\n",
    "To help you achieve this project, here are a few tips that should help you\n",
    "\n",
    "### Get weather data with an API \n",
    "\n",
    "*   Use https://nominatim.org/ to get the gps coordinates of all the cities (no subscription required) Documentation : https://nominatim.org/release-docs/develop/api/Search/\n",
    "\n",
    "*   Use https://openweathermap.org/appid (you have to subscribe to get a free apikey) and https://openweathermap.org/api/one-call-api to get some information about the weather for the 35 cities and put it in a DataFrame\n",
    "\n",
    "*   Determine the list of cities where the weather will be the nicest within the next 7 days For example, you can use the values of daily.pop and daily.rain to compute the expected volume of rain within the next 7 days... But it's only an example, actually you can have different opinions on a what a nice weather would be like 😎 Maybe the most important criterion for you is the temperature or humidity, so feel free to change the rules !\n",
    "\n",
    "*   Save all the results in a `.csv` file, you will use it later 😉 You can save all the informations that seem important to you ! Don't forget to save the name of the cities, and also to create a column containing a unique identifier (id) of each city (this is important for what's next in the project)\n",
    "\n",
    "*   Use plotly to display the best destinations on a map\n",
    "\n",
    "### Scrape Booking.com \n",
    "\n",
    "Since BookingHoldings doesn't have aggregated databases, it will be much faster to scrape data directly from booking.com \n",
    "\n",
    "You can scrap as many information asyou want, but we suggest that you get at least:\n",
    "\n",
    "*   hotel name,\n",
    "*   Url to its booking.com page,\n",
    "*   Its coordinates: latitude and longitude\n",
    "*   Score given by the website users\n",
    "*   Text description of the hotel\n",
    "\n",
    "\n",
    "### Create your data lake using S3 \n",
    "\n",
    "Once you managed to build your dataset, you should store into S3 as a csv file. \n",
    "\n",
    "### ETL \n",
    "\n",
    "Once you uploaded your data onto S3, it will be better for the next data analysis team to extract clean data directly from a Data Warehouse. Therefore, create a SQL Database using AWS RDS, extract your data from S3 and store it in your newly created DB. "
   ]
  },
  {
   "cell_type": "markdown",
   "metadata": {},
   "source": [
    "## Deliverable 📬\n",
    "\n",
    "To complete this project, your team should deliver:\n",
    "\n",
    "* A `.csv` file in an S3 bucket containing enriched information about weather and hotels for each french city\n",
    "\n",
    "* A SQL Database where we should be able to get the same cleaned data from S3 \n",
    "\n",
    "* Two maps where you should have a Top-5 destinations and a Top-20 hotels in the area. You can use plotly or any other library to do so. It should look something like this: \n",
    "\n",
    "![Map](https://full-stack-assets.s3.eu-west-3.amazonaws.com/images/Kayak_best_destination_project.png)"
   ]
  },
  {
   "cell_type": "markdown",
   "metadata": {},
   "source": [
    "## 1. Collecte des données météo avec un API"
   ]
  },
  {
   "cell_type": "code",
   "execution_count": 1,
   "metadata": {},
   "outputs": [],
   "source": [
    "import os\n",
    "import json\n",
    "import pandas as pd\n",
    "import requests\n",
    "import plotly.express as px"
   ]
  },
  {
   "cell_type": "code",
   "execution_count": 2,
   "metadata": {},
   "outputs": [],
   "source": [
    "# The search API has the following format:\n",
    "# https://nominatim.openstreetmap.org/search?<params>\n",
    "\n",
    "endpoint_geo = \"https://nominatim.openstreetmap.org/search\"\n",
    "\n",
    "# APIKey pour OpenWeatherMap\n",
    "# XXXXXXXXXXXXXXXXXXXXXXXXXXXXXXXX\n",
    "\n",
    "# Endpoint:\n",
    "# - Please, use the endpoint api.openweathermap.org for your API calls\n",
    "# - Example of API call:\n",
    "# api.openweathermap.org/data/2.5/weather?q=London,uk&APPID=XXXXXXXXXXXXXXXXXXXXXXXXXXXXXXXX\n",
    "\n",
    "endpoint_weather = \"https://api.openweathermap.org/data/2.5/forecast\"\n",
    "\n",
    "list_cities = [\"Mont Saint Michel\",\n",
    "\"St Malo\",\n",
    "\"Bayeux\",\n",
    "\"Le Havre\",\n",
    "\"Rouen\",\n",
    "\"Paris\",\n",
    "\"Amiens\",\n",
    "\"Lille\",\n",
    "\"Strasbourg\",\n",
    "\"Chateau du Haut Koenigsbourg\",\n",
    "\"Colmar\",\n",
    "\"Eguisheim\",\n",
    "\"Besancon\",\n",
    "\"Dijon\",\n",
    "\"Annecy\",\n",
    "\"Grenoble\",\n",
    "\"Lyon\",\n",
    "\"Gorges du Verdon\",\n",
    "\"Bormes les Mimosas\",\n",
    "\"Cassis\",\n",
    "\"Marseille\",\n",
    "\"Aix en Provence\",\n",
    "\"Avignon\",\n",
    "\"Uzes\",\n",
    "\"Nimes\",\n",
    "\"Aigues Mortes\",\n",
    "\"Saintes Maries de la mer\",\n",
    "\"Collioure\",\n",
    "\"Carcassonne\",\n",
    "\"Ariege\",\n",
    "\"Toulouse\",\n",
    "\"Montauban\",\n",
    "\"Biarritz\",\n",
    "\"Bayonne\",\n",
    "\"La Rochelle\"]"
   ]
  },
  {
   "cell_type": "code",
   "execution_count": 3,
   "metadata": {},
   "outputs": [],
   "source": [
    "options_geo = {\n",
    "    'city': list_cities[0],\n",
    "    'country': 'France',\n",
    "    'format': 'json'\n",
    "}\n",
    "r = requests.get(url=endpoint_geo, params=options_geo)\n",
    "# r.json()[0]"
   ]
  },
  {
   "cell_type": "code",
   "execution_count": 4,
   "metadata": {},
   "outputs": [
    {
     "data": {
      "text/plain": [
       "{'place_id': 247828266,\n",
       " 'licence': 'Data © OpenStreetMap contributors, ODbL 1.0. http://osm.org/copyright',\n",
       " 'osm_type': 'way',\n",
       " 'osm_id': 211285890,\n",
       " 'lat': '48.6359541',\n",
       " 'lon': '-1.511459954959514',\n",
       " 'class': 'place',\n",
       " 'type': 'islet',\n",
       " 'place_rank': 20,\n",
       " 'importance': 0.45543655678157396,\n",
       " 'addresstype': 'islet',\n",
       " 'name': 'Mont Saint-Michel',\n",
       " 'display_name': 'Mont Saint-Michel, Le Mont-Saint-Michel, Avranches, Manche, Normandie, France métropolitaine, 50170, France',\n",
       " 'boundingbox': ['48.6349172', '48.6370310', '-1.5133292', '-1.5094796']}"
      ]
     },
     "execution_count": 4,
     "metadata": {},
     "output_type": "execute_result"
    }
   ],
   "source": [
    "r.json()[0]"
   ]
  },
  {
   "cell_type": "code",
   "execution_count": 5,
   "metadata": {},
   "outputs": [
    {
     "data": {
      "text/plain": [
       "<Response [200]>"
      ]
     },
     "execution_count": 5,
     "metadata": {},
     "output_type": "execute_result"
    }
   ],
   "source": [
    "options_weather = {\n",
    "    'lat': r.json()[0]['lat'],\n",
    "    'lon': r.json()[0]['lon'],\n",
    "    'units': 'metric',\n",
    "    'appid': 'XXXXXXXXXXXXXXXXXXXXXXXXXXXXXXXX'\n",
    "}\n",
    "\n",
    "r_weather = requests.get(url=endpoint_weather, params=options_weather)\n",
    "r_weather"
   ]
  },
  {
   "cell_type": "code",
   "execution_count": 6,
   "metadata": {},
   "outputs": [
    {
     "data": {
      "text/plain": [
       "{'Server': 'openresty', 'Date': 'Mon, 05 Aug 2024 13:19:30 GMT', 'Content-Type': 'application/json; charset=utf-8', 'Content-Length': '15889', 'Connection': 'keep-alive', 'X-Cache-Key': '/data/2.5/forecast?lat=48.64&lon=-1.51&units=metric', 'Access-Control-Allow-Origin': '*', 'Access-Control-Allow-Credentials': 'true', 'Access-Control-Allow-Methods': 'GET, POST'}"
      ]
     },
     "execution_count": 6,
     "metadata": {},
     "output_type": "execute_result"
    }
   ],
   "source": [
    "r_weather.headers"
   ]
  },
  {
   "cell_type": "code",
   "execution_count": 7,
   "metadata": {},
   "outputs": [
    {
     "data": {
      "text/plain": [
       "{'temp': 26.51,\n",
       " 'feels_like': 26.51,\n",
       " 'temp_min': 26.51,\n",
       " 'temp_max': 26.51,\n",
       " 'pressure': 1018,\n",
       " 'sea_level': 1018,\n",
       " 'grnd_level': 1013,\n",
       " 'humidity': 39,\n",
       " 'temp_kf': 0}"
      ]
     },
     "execution_count": 7,
     "metadata": {},
     "output_type": "execute_result"
    }
   ],
   "source": [
    "r_weather.json()['list'][-1]['main']"
   ]
  },
  {
   "cell_type": "code",
   "execution_count": 8,
   "metadata": {},
   "outputs": [],
   "source": [
    "df = pd.DataFrame(columns = ['Ville', 'Latitude', 'Longitude', 'Temperature', 'Humidite'])"
   ]
  },
  {
   "cell_type": "code",
   "execution_count": 9,
   "metadata": {},
   "outputs": [
    {
     "data": {
      "text/html": [
       "<div>\n",
       "<style scoped>\n",
       "    .dataframe tbody tr th:only-of-type {\n",
       "        vertical-align: middle;\n",
       "    }\n",
       "\n",
       "    .dataframe tbody tr th {\n",
       "        vertical-align: top;\n",
       "    }\n",
       "\n",
       "    .dataframe thead th {\n",
       "        text-align: right;\n",
       "    }\n",
       "</style>\n",
       "<table border=\"1\" class=\"dataframe\">\n",
       "  <thead>\n",
       "    <tr style=\"text-align: right;\">\n",
       "      <th></th>\n",
       "      <th>Ville</th>\n",
       "      <th>Latitude</th>\n",
       "      <th>Longitude</th>\n",
       "      <th>Temperature</th>\n",
       "      <th>Humidite</th>\n",
       "    </tr>\n",
       "  </thead>\n",
       "  <tbody>\n",
       "  </tbody>\n",
       "</table>\n",
       "</div>"
      ],
      "text/plain": [
       "Empty DataFrame\n",
       "Columns: [Ville, Latitude, Longitude, Temperature, Humidite]\n",
       "Index: []"
      ]
     },
     "execution_count": 9,
     "metadata": {},
     "output_type": "execute_result"
    }
   ],
   "source": [
    "df.head()"
   ]
  },
  {
   "cell_type": "code",
   "execution_count": 10,
   "metadata": {},
   "outputs": [],
   "source": [
    "df.loc[0] = [list_cities[0],\n",
    "             r.json()[0]['lat'],\n",
    "             r.json()[0]['lon'],\n",
    "             r_weather.json()['list'][-1]['main']['temp'],\n",
    "             r_weather.json()['list'][-1]['main']['humidity']]"
   ]
  },
  {
   "cell_type": "code",
   "execution_count": 11,
   "metadata": {},
   "outputs": [
    {
     "data": {
      "text/html": [
       "<div>\n",
       "<style scoped>\n",
       "    .dataframe tbody tr th:only-of-type {\n",
       "        vertical-align: middle;\n",
       "    }\n",
       "\n",
       "    .dataframe tbody tr th {\n",
       "        vertical-align: top;\n",
       "    }\n",
       "\n",
       "    .dataframe thead th {\n",
       "        text-align: right;\n",
       "    }\n",
       "</style>\n",
       "<table border=\"1\" class=\"dataframe\">\n",
       "  <thead>\n",
       "    <tr style=\"text-align: right;\">\n",
       "      <th></th>\n",
       "      <th>Ville</th>\n",
       "      <th>Latitude</th>\n",
       "      <th>Longitude</th>\n",
       "      <th>Temperature</th>\n",
       "      <th>Humidite</th>\n",
       "    </tr>\n",
       "  </thead>\n",
       "  <tbody>\n",
       "    <tr>\n",
       "      <th>0</th>\n",
       "      <td>Mont Saint Michel</td>\n",
       "      <td>48.6359541</td>\n",
       "      <td>-1.511459954959514</td>\n",
       "      <td>26.51</td>\n",
       "      <td>39</td>\n",
       "    </tr>\n",
       "  </tbody>\n",
       "</table>\n",
       "</div>"
      ],
      "text/plain": [
       "               Ville    Latitude           Longitude  Temperature  Humidite\n",
       "0  Mont Saint Michel  48.6359541  -1.511459954959514        26.51        39"
      ]
     },
     "execution_count": 11,
     "metadata": {},
     "output_type": "execute_result"
    }
   ],
   "source": [
    "df.head()"
   ]
  },
  {
   "cell_type": "code",
   "execution_count": 12,
   "metadata": {},
   "outputs": [
    {
     "name": "stdout",
     "output_type": "stream",
     "text": [
      "Ville Mont Saint Michel code retour 200\n",
      "Meteo ville Mont Saint Michel code retour 200\n",
      "Ville St Malo code retour 200\n",
      "Meteo ville St Malo code retour 200\n",
      "Ville Bayeux code retour 200\n",
      "Meteo ville Bayeux code retour 200\n",
      "Ville Le Havre code retour 200\n",
      "Meteo ville Le Havre code retour 200\n",
      "Ville Rouen code retour 200\n",
      "Meteo ville Rouen code retour 200\n",
      "Ville Paris code retour 200\n",
      "Meteo ville Paris code retour 200\n",
      "Ville Amiens code retour 200\n",
      "Meteo ville Amiens code retour 200\n",
      "Ville Lille code retour 200\n",
      "Meteo ville Lille code retour 200\n",
      "Ville Strasbourg code retour 200\n",
      "Meteo ville Strasbourg code retour 200\n",
      "Ville Chateau du Haut Koenigsbourg code retour 200\n",
      "Meteo ville Chateau du Haut Koenigsbourg code retour 200\n",
      "Ville Colmar code retour 200\n",
      "Meteo ville Colmar code retour 200\n",
      "Ville Eguisheim code retour 200\n",
      "Meteo ville Eguisheim code retour 200\n",
      "Ville Besancon code retour 200\n",
      "Meteo ville Besancon code retour 200\n",
      "Ville Dijon code retour 200\n",
      "Meteo ville Dijon code retour 200\n",
      "Ville Annecy code retour 200\n",
      "Meteo ville Annecy code retour 200\n",
      "Ville Grenoble code retour 200\n",
      "Meteo ville Grenoble code retour 200\n",
      "Ville Lyon code retour 200\n",
      "Meteo ville Lyon code retour 200\n",
      "Ville Gorges du Verdon code retour 200\n",
      "Meteo ville Gorges du Verdon code retour 200\n",
      "Ville Bormes les Mimosas code retour 200\n",
      "Meteo ville Bormes les Mimosas code retour 200\n",
      "Ville Cassis code retour 200\n",
      "Meteo ville Cassis code retour 200\n",
      "Ville Marseille code retour 200\n",
      "Meteo ville Marseille code retour 200\n",
      "Ville Aix en Provence code retour 200\n",
      "Meteo ville Aix en Provence code retour 200\n",
      "Ville Avignon code retour 200\n",
      "Meteo ville Avignon code retour 200\n",
      "Ville Uzes code retour 200\n",
      "Meteo ville Uzes code retour 200\n",
      "Ville Nimes code retour 200\n",
      "Meteo ville Nimes code retour 200\n",
      "Ville Aigues Mortes code retour 200\n",
      "Meteo ville Aigues Mortes code retour 200\n",
      "Ville Saintes Maries de la mer code retour 200\n",
      "Meteo ville Saintes Maries de la mer code retour 200\n",
      "Ville Collioure code retour 200\n",
      "Meteo ville Collioure code retour 200\n",
      "Ville Carcassonne code retour 200\n",
      "Meteo ville Carcassonne code retour 200\n",
      "Ville Ariege code retour 200\n",
      "Meteo ville Ariege code retour 200\n",
      "Ville Toulouse code retour 200\n",
      "Meteo ville Toulouse code retour 200\n",
      "Ville Montauban code retour 200\n",
      "Meteo ville Montauban code retour 200\n",
      "Ville Biarritz code retour 200\n",
      "Meteo ville Biarritz code retour 200\n",
      "Ville Bayonne code retour 200\n",
      "Meteo ville Bayonne code retour 200\n",
      "Ville La Rochelle code retour 200\n",
      "Meteo ville La Rochelle code retour 200\n"
     ]
    }
   ],
   "source": [
    "import time\n",
    "\n",
    "for i, city in enumerate(list_cities):\n",
    "    options_geo = {\n",
    "        'city': city,\n",
    "        'country': 'France',\n",
    "        'format': 'json'\n",
    "    }\n",
    "    r = requests.get(url=endpoint_geo, params=options_geo)\n",
    "    print('Ville {} code retour {}'.format(city, r.status_code))\n",
    "    if r.status_code == 200:\n",
    "        dict_city = r.json()[0]\n",
    "        options_weather = {\n",
    "            'lat': dict_city['lat'],\n",
    "            'lon': dict_city['lon'],\n",
    "            'units': 'metric', # Pour avoir des degres Celsius\n",
    "            'appid': 'XXXXXXXXXXXXXXXXXXXXXXXXXXXXXXXX'\n",
    "        }\n",
    "        r_weather = requests.get(url=endpoint_weather, params=options_weather)\n",
    "        print('Meteo ville {} code retour {}'.format(city, r_weather.status_code))\n",
    "        if r_weather.status_code == 200:\n",
    "            meteo_city_in_5days = r_weather.json()['list'][-1]['main'] # Dernier element de mon ensemble de previsions\n",
    "            df.loc[i] = [city,\n",
    "                         dict_city['lat'],\n",
    "                         dict_city['lon'],\n",
    "                         meteo_city_in_5days['temp'],\n",
    "                         meteo_city_in_5days['humidity']]\n",
    "\n",
    "    time.sleep(1)"
   ]
  },
  {
   "cell_type": "code",
   "execution_count": 13,
   "metadata": {},
   "outputs": [
    {
     "data": {
      "text/html": [
       "<div>\n",
       "<style scoped>\n",
       "    .dataframe tbody tr th:only-of-type {\n",
       "        vertical-align: middle;\n",
       "    }\n",
       "\n",
       "    .dataframe tbody tr th {\n",
       "        vertical-align: top;\n",
       "    }\n",
       "\n",
       "    .dataframe thead th {\n",
       "        text-align: right;\n",
       "    }\n",
       "</style>\n",
       "<table border=\"1\" class=\"dataframe\">\n",
       "  <thead>\n",
       "    <tr style=\"text-align: right;\">\n",
       "      <th></th>\n",
       "      <th>Ville</th>\n",
       "      <th>Latitude</th>\n",
       "      <th>Longitude</th>\n",
       "      <th>Temperature</th>\n",
       "      <th>Humidite</th>\n",
       "    </tr>\n",
       "  </thead>\n",
       "  <tbody>\n",
       "    <tr>\n",
       "      <th>0</th>\n",
       "      <td>Mont Saint Michel</td>\n",
       "      <td>48.6359541</td>\n",
       "      <td>-1.511459954959514</td>\n",
       "      <td>26.51</td>\n",
       "      <td>39</td>\n",
       "    </tr>\n",
       "    <tr>\n",
       "      <th>1</th>\n",
       "      <td>St Malo</td>\n",
       "      <td>48.649518</td>\n",
       "      <td>-2.0260409</td>\n",
       "      <td>24.01</td>\n",
       "      <td>53</td>\n",
       "    </tr>\n",
       "    <tr>\n",
       "      <th>2</th>\n",
       "      <td>Bayeux</td>\n",
       "      <td>49.2764624</td>\n",
       "      <td>-0.7024738</td>\n",
       "      <td>27.03</td>\n",
       "      <td>37</td>\n",
       "    </tr>\n",
       "    <tr>\n",
       "      <th>3</th>\n",
       "      <td>Le Havre</td>\n",
       "      <td>49.4938975</td>\n",
       "      <td>0.1079732</td>\n",
       "      <td>20.63</td>\n",
       "      <td>59</td>\n",
       "    </tr>\n",
       "    <tr>\n",
       "      <th>4</th>\n",
       "      <td>Rouen</td>\n",
       "      <td>49.4404591</td>\n",
       "      <td>1.0939658</td>\n",
       "      <td>27.57</td>\n",
       "      <td>42</td>\n",
       "    </tr>\n",
       "    <tr>\n",
       "      <th>5</th>\n",
       "      <td>Paris</td>\n",
       "      <td>48.8534951</td>\n",
       "      <td>2.3483915</td>\n",
       "      <td>29.70</td>\n",
       "      <td>30</td>\n",
       "    </tr>\n",
       "    <tr>\n",
       "      <th>6</th>\n",
       "      <td>Amiens</td>\n",
       "      <td>49.8941708</td>\n",
       "      <td>2.2956951</td>\n",
       "      <td>26.23</td>\n",
       "      <td>49</td>\n",
       "    </tr>\n",
       "    <tr>\n",
       "      <th>7</th>\n",
       "      <td>Lille</td>\n",
       "      <td>50.6365654</td>\n",
       "      <td>3.0635282</td>\n",
       "      <td>26.60</td>\n",
       "      <td>48</td>\n",
       "    </tr>\n",
       "    <tr>\n",
       "      <th>8</th>\n",
       "      <td>Strasbourg</td>\n",
       "      <td>48.584614</td>\n",
       "      <td>7.7507127</td>\n",
       "      <td>27.46</td>\n",
       "      <td>53</td>\n",
       "    </tr>\n",
       "    <tr>\n",
       "      <th>9</th>\n",
       "      <td>Chateau du Haut Koenigsbourg</td>\n",
       "      <td>48.2495226</td>\n",
       "      <td>7.3454923</td>\n",
       "      <td>25.36</td>\n",
       "      <td>54</td>\n",
       "    </tr>\n",
       "    <tr>\n",
       "      <th>10</th>\n",
       "      <td>Colmar</td>\n",
       "      <td>48.0777517</td>\n",
       "      <td>7.3579641</td>\n",
       "      <td>27.18</td>\n",
       "      <td>58</td>\n",
       "    </tr>\n",
       "    <tr>\n",
       "      <th>11</th>\n",
       "      <td>Eguisheim</td>\n",
       "      <td>48.0447968</td>\n",
       "      <td>7.3079618</td>\n",
       "      <td>26.92</td>\n",
       "      <td>58</td>\n",
       "    </tr>\n",
       "    <tr>\n",
       "      <th>12</th>\n",
       "      <td>Besancon</td>\n",
       "      <td>47.2380222</td>\n",
       "      <td>6.0243622</td>\n",
       "      <td>28.12</td>\n",
       "      <td>52</td>\n",
       "    </tr>\n",
       "    <tr>\n",
       "      <th>13</th>\n",
       "      <td>Dijon</td>\n",
       "      <td>47.3215806</td>\n",
       "      <td>5.0414701</td>\n",
       "      <td>27.24</td>\n",
       "      <td>54</td>\n",
       "    </tr>\n",
       "    <tr>\n",
       "      <th>14</th>\n",
       "      <td>Annecy</td>\n",
       "      <td>45.8992348</td>\n",
       "      <td>6.1288847</td>\n",
       "      <td>29.13</td>\n",
       "      <td>46</td>\n",
       "    </tr>\n",
       "    <tr>\n",
       "      <th>15</th>\n",
       "      <td>Grenoble</td>\n",
       "      <td>45.1875602</td>\n",
       "      <td>5.7357819</td>\n",
       "      <td>33.15</td>\n",
       "      <td>40</td>\n",
       "    </tr>\n",
       "    <tr>\n",
       "      <th>16</th>\n",
       "      <td>Lyon</td>\n",
       "      <td>45.7578137</td>\n",
       "      <td>4.8320114</td>\n",
       "      <td>29.71</td>\n",
       "      <td>43</td>\n",
       "    </tr>\n",
       "    <tr>\n",
       "      <th>17</th>\n",
       "      <td>Gorges du Verdon</td>\n",
       "      <td>43.7496562</td>\n",
       "      <td>6.3285616</td>\n",
       "      <td>30.91</td>\n",
       "      <td>31</td>\n",
       "    </tr>\n",
       "    <tr>\n",
       "      <th>18</th>\n",
       "      <td>Bormes les Mimosas</td>\n",
       "      <td>43.1506968</td>\n",
       "      <td>6.3419285</td>\n",
       "      <td>30.78</td>\n",
       "      <td>53</td>\n",
       "    </tr>\n",
       "    <tr>\n",
       "      <th>19</th>\n",
       "      <td>Cassis</td>\n",
       "      <td>43.2140359</td>\n",
       "      <td>5.5396318</td>\n",
       "      <td>27.78</td>\n",
       "      <td>59</td>\n",
       "    </tr>\n",
       "    <tr>\n",
       "      <th>20</th>\n",
       "      <td>Marseille</td>\n",
       "      <td>43.2961743</td>\n",
       "      <td>5.3699525</td>\n",
       "      <td>28.65</td>\n",
       "      <td>56</td>\n",
       "    </tr>\n",
       "    <tr>\n",
       "      <th>21</th>\n",
       "      <td>Aix en Provence</td>\n",
       "      <td>43.5298424</td>\n",
       "      <td>5.4474738</td>\n",
       "      <td>34.91</td>\n",
       "      <td>30</td>\n",
       "    </tr>\n",
       "    <tr>\n",
       "      <th>22</th>\n",
       "      <td>Avignon</td>\n",
       "      <td>43.9492493</td>\n",
       "      <td>4.8059012</td>\n",
       "      <td>37.84</td>\n",
       "      <td>23</td>\n",
       "    </tr>\n",
       "    <tr>\n",
       "      <th>23</th>\n",
       "      <td>Uzes</td>\n",
       "      <td>44.0121279</td>\n",
       "      <td>4.4196718</td>\n",
       "      <td>34.83</td>\n",
       "      <td>28</td>\n",
       "    </tr>\n",
       "    <tr>\n",
       "      <th>24</th>\n",
       "      <td>Nimes</td>\n",
       "      <td>43.8374249</td>\n",
       "      <td>4.3600687</td>\n",
       "      <td>36.61</td>\n",
       "      <td>24</td>\n",
       "    </tr>\n",
       "    <tr>\n",
       "      <th>25</th>\n",
       "      <td>Aigues Mortes</td>\n",
       "      <td>43.5661521</td>\n",
       "      <td>4.19154</td>\n",
       "      <td>30.59</td>\n",
       "      <td>45</td>\n",
       "    </tr>\n",
       "    <tr>\n",
       "      <th>26</th>\n",
       "      <td>Saintes Maries de la mer</td>\n",
       "      <td>43.4515922</td>\n",
       "      <td>4.4277202</td>\n",
       "      <td>28.57</td>\n",
       "      <td>53</td>\n",
       "    </tr>\n",
       "    <tr>\n",
       "      <th>27</th>\n",
       "      <td>Collioure</td>\n",
       "      <td>42.52505</td>\n",
       "      <td>3.0831554</td>\n",
       "      <td>31.74</td>\n",
       "      <td>38</td>\n",
       "    </tr>\n",
       "    <tr>\n",
       "      <th>28</th>\n",
       "      <td>Carcassonne</td>\n",
       "      <td>43.2130358</td>\n",
       "      <td>2.3491069</td>\n",
       "      <td>37.95</td>\n",
       "      <td>18</td>\n",
       "    </tr>\n",
       "    <tr>\n",
       "      <th>29</th>\n",
       "      <td>Ariege</td>\n",
       "      <td>42.9427221</td>\n",
       "      <td>1.6164435</td>\n",
       "      <td>32.53</td>\n",
       "      <td>33</td>\n",
       "    </tr>\n",
       "    <tr>\n",
       "      <th>30</th>\n",
       "      <td>Toulouse</td>\n",
       "      <td>43.6044622</td>\n",
       "      <td>1.4442469</td>\n",
       "      <td>34.60</td>\n",
       "      <td>22</td>\n",
       "    </tr>\n",
       "    <tr>\n",
       "      <th>31</th>\n",
       "      <td>Montauban</td>\n",
       "      <td>44.0175835</td>\n",
       "      <td>1.3549991</td>\n",
       "      <td>34.40</td>\n",
       "      <td>24</td>\n",
       "    </tr>\n",
       "    <tr>\n",
       "      <th>32</th>\n",
       "      <td>Biarritz</td>\n",
       "      <td>43.4832523</td>\n",
       "      <td>-1.5592776</td>\n",
       "      <td>30.45</td>\n",
       "      <td>47</td>\n",
       "    </tr>\n",
       "    <tr>\n",
       "      <th>33</th>\n",
       "      <td>Bayonne</td>\n",
       "      <td>43.4945144</td>\n",
       "      <td>-1.4736657</td>\n",
       "      <td>32.47</td>\n",
       "      <td>39</td>\n",
       "    </tr>\n",
       "    <tr>\n",
       "      <th>34</th>\n",
       "      <td>La Rochelle</td>\n",
       "      <td>46.1591126</td>\n",
       "      <td>-1.1520434</td>\n",
       "      <td>28.14</td>\n",
       "      <td>50</td>\n",
       "    </tr>\n",
       "  </tbody>\n",
       "</table>\n",
       "</div>"
      ],
      "text/plain": [
       "                           Ville    Latitude           Longitude  Temperature  \\\n",
       "0              Mont Saint Michel  48.6359541  -1.511459954959514        26.51   \n",
       "1                        St Malo   48.649518          -2.0260409        24.01   \n",
       "2                         Bayeux  49.2764624          -0.7024738        27.03   \n",
       "3                       Le Havre  49.4938975           0.1079732        20.63   \n",
       "4                          Rouen  49.4404591           1.0939658        27.57   \n",
       "5                          Paris  48.8534951           2.3483915        29.70   \n",
       "6                         Amiens  49.8941708           2.2956951        26.23   \n",
       "7                          Lille  50.6365654           3.0635282        26.60   \n",
       "8                     Strasbourg   48.584614           7.7507127        27.46   \n",
       "9   Chateau du Haut Koenigsbourg  48.2495226           7.3454923        25.36   \n",
       "10                        Colmar  48.0777517           7.3579641        27.18   \n",
       "11                     Eguisheim  48.0447968           7.3079618        26.92   \n",
       "12                      Besancon  47.2380222           6.0243622        28.12   \n",
       "13                         Dijon  47.3215806           5.0414701        27.24   \n",
       "14                        Annecy  45.8992348           6.1288847        29.13   \n",
       "15                      Grenoble  45.1875602           5.7357819        33.15   \n",
       "16                          Lyon  45.7578137           4.8320114        29.71   \n",
       "17              Gorges du Verdon  43.7496562           6.3285616        30.91   \n",
       "18            Bormes les Mimosas  43.1506968           6.3419285        30.78   \n",
       "19                        Cassis  43.2140359           5.5396318        27.78   \n",
       "20                     Marseille  43.2961743           5.3699525        28.65   \n",
       "21               Aix en Provence  43.5298424           5.4474738        34.91   \n",
       "22                       Avignon  43.9492493           4.8059012        37.84   \n",
       "23                          Uzes  44.0121279           4.4196718        34.83   \n",
       "24                         Nimes  43.8374249           4.3600687        36.61   \n",
       "25                 Aigues Mortes  43.5661521             4.19154        30.59   \n",
       "26      Saintes Maries de la mer  43.4515922           4.4277202        28.57   \n",
       "27                     Collioure    42.52505           3.0831554        31.74   \n",
       "28                   Carcassonne  43.2130358           2.3491069        37.95   \n",
       "29                        Ariege  42.9427221           1.6164435        32.53   \n",
       "30                      Toulouse  43.6044622           1.4442469        34.60   \n",
       "31                     Montauban  44.0175835           1.3549991        34.40   \n",
       "32                      Biarritz  43.4832523          -1.5592776        30.45   \n",
       "33                       Bayonne  43.4945144          -1.4736657        32.47   \n",
       "34                   La Rochelle  46.1591126          -1.1520434        28.14   \n",
       "\n",
       "    Humidite  \n",
       "0         39  \n",
       "1         53  \n",
       "2         37  \n",
       "3         59  \n",
       "4         42  \n",
       "5         30  \n",
       "6         49  \n",
       "7         48  \n",
       "8         53  \n",
       "9         54  \n",
       "10        58  \n",
       "11        58  \n",
       "12        52  \n",
       "13        54  \n",
       "14        46  \n",
       "15        40  \n",
       "16        43  \n",
       "17        31  \n",
       "18        53  \n",
       "19        59  \n",
       "20        56  \n",
       "21        30  \n",
       "22        23  \n",
       "23        28  \n",
       "24        24  \n",
       "25        45  \n",
       "26        53  \n",
       "27        38  \n",
       "28        18  \n",
       "29        33  \n",
       "30        22  \n",
       "31        24  \n",
       "32        47  \n",
       "33        39  \n",
       "34        50  "
      ]
     },
     "execution_count": 13,
     "metadata": {},
     "output_type": "execute_result"
    }
   ],
   "source": [
    "df"
   ]
  },
  {
   "cell_type": "code",
   "execution_count": 14,
   "metadata": {},
   "outputs": [],
   "source": [
    "# Pour convertir les chaines de caracteres en valeurs numeriques\n",
    "for column in ['Latitude', 'Longitude', 'Temperature', 'Humidite']:\n",
    "    df[column] = df[column].apply(lambda x: float(x))"
   ]
  },
  {
   "cell_type": "code",
   "execution_count": 17,
   "metadata": {},
   "outputs": [],
   "source": [
    "# Pour sauvegarder les infos de la meteo dans un fichier CSV\n",
    "df.to_csv('weather_infos.csv', encoding='iso-8859-1')"
   ]
  },
  {
   "cell_type": "markdown",
   "metadata": {},
   "source": [
    "### Graphe des températures des différentes villes"
   ]
  },
  {
   "cell_type": "code",
   "execution_count": 18,
   "metadata": {},
   "outputs": [
    {
     "data": {
      "application/vnd.plotly.v1+json": {
       "config": {
        "plotlyServerURL": "https://plot.ly"
       },
       "data": [
        {
         "hovertemplate": "Latitude=%{lat}<br>Longitude=%{lon}<br>Temperature=%{marker.color}<extra></extra>",
         "lat": [
          48.6359541,
          48.649518,
          49.2764624,
          49.4938975,
          49.4404591,
          48.8534951,
          49.8941708,
          50.6365654,
          48.584614,
          48.2495226,
          48.0777517,
          48.0447968,
          47.2380222,
          47.3215806,
          45.8992348,
          45.1875602,
          45.7578137,
          43.7496562,
          43.1506968,
          43.2140359,
          43.2961743,
          43.5298424,
          43.9492493,
          44.0121279,
          43.8374249,
          43.5661521,
          43.4515922,
          42.52505,
          43.2130358,
          42.9427221,
          43.6044622,
          44.0175835,
          43.4832523,
          43.4945144,
          46.1591126
         ],
         "legendgroup": "",
         "lon": [
          -1.511459954959514,
          -2.0260409,
          -0.7024738,
          0.1079732,
          1.0939658,
          2.3483915,
          2.2956951,
          3.0635282,
          7.7507127,
          7.3454923,
          7.3579641,
          7.3079618,
          6.0243622,
          5.0414701,
          6.1288847,
          5.7357819,
          4.8320114,
          6.3285616,
          6.3419285,
          5.5396318,
          5.3699525,
          5.4474738,
          4.8059012,
          4.4196718,
          4.3600687,
          4.19154,
          4.4277202,
          3.0831554,
          2.3491069,
          1.6164435,
          1.4442469,
          1.3549991,
          -1.5592776,
          -1.4736657,
          -1.1520434
         ],
         "marker": {
          "color": [
           26.51,
           24.01,
           27.03,
           20.63,
           27.57,
           29.7,
           26.23,
           26.6,
           27.46,
           25.36,
           27.18,
           26.92,
           28.12,
           27.24,
           29.13,
           33.15,
           29.71,
           30.91,
           30.78,
           27.78,
           28.65,
           34.91,
           37.84,
           34.83,
           36.61,
           30.59,
           28.57,
           31.74,
           37.95,
           32.53,
           34.6,
           34.4,
           30.45,
           32.47,
           28.14
          ],
          "coloraxis": "coloraxis"
         },
         "mode": "markers",
         "name": "",
         "showlegend": false,
         "subplot": "mapbox",
         "type": "scattermapbox"
        }
       ],
       "layout": {
        "coloraxis": {
         "colorbar": {
          "title": {
           "text": "Temperature"
          }
         },
         "colorscale": [
          [
           0,
           "rgb(0,0,255)"
          ],
          [
           1,
           "rgb(255,0,0)"
          ]
         ]
        },
        "legend": {
         "tracegroupgap": 0
        },
        "mapbox": {
         "center": {
          "lat": 45.84108868285715,
          "lon": 3.402561015572585
         },
         "domain": {
          "x": [
           0,
           1
          ],
          "y": [
           0,
           1
          ]
         },
         "style": "open-street-map",
         "zoom": 4
        },
        "margin": {
         "t": 60
        },
        "template": {
         "data": {
          "bar": [
           {
            "error_x": {
             "color": "#2a3f5f"
            },
            "error_y": {
             "color": "#2a3f5f"
            },
            "marker": {
             "line": {
              "color": "#E5ECF6",
              "width": 0.5
             },
             "pattern": {
              "fillmode": "overlay",
              "size": 10,
              "solidity": 0.2
             }
            },
            "type": "bar"
           }
          ],
          "barpolar": [
           {
            "marker": {
             "line": {
              "color": "#E5ECF6",
              "width": 0.5
             },
             "pattern": {
              "fillmode": "overlay",
              "size": 10,
              "solidity": 0.2
             }
            },
            "type": "barpolar"
           }
          ],
          "carpet": [
           {
            "aaxis": {
             "endlinecolor": "#2a3f5f",
             "gridcolor": "white",
             "linecolor": "white",
             "minorgridcolor": "white",
             "startlinecolor": "#2a3f5f"
            },
            "baxis": {
             "endlinecolor": "#2a3f5f",
             "gridcolor": "white",
             "linecolor": "white",
             "minorgridcolor": "white",
             "startlinecolor": "#2a3f5f"
            },
            "type": "carpet"
           }
          ],
          "choropleth": [
           {
            "colorbar": {
             "outlinewidth": 0,
             "ticks": ""
            },
            "type": "choropleth"
           }
          ],
          "contour": [
           {
            "colorbar": {
             "outlinewidth": 0,
             "ticks": ""
            },
            "colorscale": [
             [
              0,
              "#0d0887"
             ],
             [
              0.1111111111111111,
              "#46039f"
             ],
             [
              0.2222222222222222,
              "#7201a8"
             ],
             [
              0.3333333333333333,
              "#9c179e"
             ],
             [
              0.4444444444444444,
              "#bd3786"
             ],
             [
              0.5555555555555556,
              "#d8576b"
             ],
             [
              0.6666666666666666,
              "#ed7953"
             ],
             [
              0.7777777777777778,
              "#fb9f3a"
             ],
             [
              0.8888888888888888,
              "#fdca26"
             ],
             [
              1,
              "#f0f921"
             ]
            ],
            "type": "contour"
           }
          ],
          "contourcarpet": [
           {
            "colorbar": {
             "outlinewidth": 0,
             "ticks": ""
            },
            "type": "contourcarpet"
           }
          ],
          "heatmap": [
           {
            "colorbar": {
             "outlinewidth": 0,
             "ticks": ""
            },
            "colorscale": [
             [
              0,
              "#0d0887"
             ],
             [
              0.1111111111111111,
              "#46039f"
             ],
             [
              0.2222222222222222,
              "#7201a8"
             ],
             [
              0.3333333333333333,
              "#9c179e"
             ],
             [
              0.4444444444444444,
              "#bd3786"
             ],
             [
              0.5555555555555556,
              "#d8576b"
             ],
             [
              0.6666666666666666,
              "#ed7953"
             ],
             [
              0.7777777777777778,
              "#fb9f3a"
             ],
             [
              0.8888888888888888,
              "#fdca26"
             ],
             [
              1,
              "#f0f921"
             ]
            ],
            "type": "heatmap"
           }
          ],
          "heatmapgl": [
           {
            "colorbar": {
             "outlinewidth": 0,
             "ticks": ""
            },
            "colorscale": [
             [
              0,
              "#0d0887"
             ],
             [
              0.1111111111111111,
              "#46039f"
             ],
             [
              0.2222222222222222,
              "#7201a8"
             ],
             [
              0.3333333333333333,
              "#9c179e"
             ],
             [
              0.4444444444444444,
              "#bd3786"
             ],
             [
              0.5555555555555556,
              "#d8576b"
             ],
             [
              0.6666666666666666,
              "#ed7953"
             ],
             [
              0.7777777777777778,
              "#fb9f3a"
             ],
             [
              0.8888888888888888,
              "#fdca26"
             ],
             [
              1,
              "#f0f921"
             ]
            ],
            "type": "heatmapgl"
           }
          ],
          "histogram": [
           {
            "marker": {
             "pattern": {
              "fillmode": "overlay",
              "size": 10,
              "solidity": 0.2
             }
            },
            "type": "histogram"
           }
          ],
          "histogram2d": [
           {
            "colorbar": {
             "outlinewidth": 0,
             "ticks": ""
            },
            "colorscale": [
             [
              0,
              "#0d0887"
             ],
             [
              0.1111111111111111,
              "#46039f"
             ],
             [
              0.2222222222222222,
              "#7201a8"
             ],
             [
              0.3333333333333333,
              "#9c179e"
             ],
             [
              0.4444444444444444,
              "#bd3786"
             ],
             [
              0.5555555555555556,
              "#d8576b"
             ],
             [
              0.6666666666666666,
              "#ed7953"
             ],
             [
              0.7777777777777778,
              "#fb9f3a"
             ],
             [
              0.8888888888888888,
              "#fdca26"
             ],
             [
              1,
              "#f0f921"
             ]
            ],
            "type": "histogram2d"
           }
          ],
          "histogram2dcontour": [
           {
            "colorbar": {
             "outlinewidth": 0,
             "ticks": ""
            },
            "colorscale": [
             [
              0,
              "#0d0887"
             ],
             [
              0.1111111111111111,
              "#46039f"
             ],
             [
              0.2222222222222222,
              "#7201a8"
             ],
             [
              0.3333333333333333,
              "#9c179e"
             ],
             [
              0.4444444444444444,
              "#bd3786"
             ],
             [
              0.5555555555555556,
              "#d8576b"
             ],
             [
              0.6666666666666666,
              "#ed7953"
             ],
             [
              0.7777777777777778,
              "#fb9f3a"
             ],
             [
              0.8888888888888888,
              "#fdca26"
             ],
             [
              1,
              "#f0f921"
             ]
            ],
            "type": "histogram2dcontour"
           }
          ],
          "mesh3d": [
           {
            "colorbar": {
             "outlinewidth": 0,
             "ticks": ""
            },
            "type": "mesh3d"
           }
          ],
          "parcoords": [
           {
            "line": {
             "colorbar": {
              "outlinewidth": 0,
              "ticks": ""
             }
            },
            "type": "parcoords"
           }
          ],
          "pie": [
           {
            "automargin": true,
            "type": "pie"
           }
          ],
          "scatter": [
           {
            "fillpattern": {
             "fillmode": "overlay",
             "size": 10,
             "solidity": 0.2
            },
            "type": "scatter"
           }
          ],
          "scatter3d": [
           {
            "line": {
             "colorbar": {
              "outlinewidth": 0,
              "ticks": ""
             }
            },
            "marker": {
             "colorbar": {
              "outlinewidth": 0,
              "ticks": ""
             }
            },
            "type": "scatter3d"
           }
          ],
          "scattercarpet": [
           {
            "marker": {
             "colorbar": {
              "outlinewidth": 0,
              "ticks": ""
             }
            },
            "type": "scattercarpet"
           }
          ],
          "scattergeo": [
           {
            "marker": {
             "colorbar": {
              "outlinewidth": 0,
              "ticks": ""
             }
            },
            "type": "scattergeo"
           }
          ],
          "scattergl": [
           {
            "marker": {
             "colorbar": {
              "outlinewidth": 0,
              "ticks": ""
             }
            },
            "type": "scattergl"
           }
          ],
          "scattermapbox": [
           {
            "marker": {
             "colorbar": {
              "outlinewidth": 0,
              "ticks": ""
             }
            },
            "type": "scattermapbox"
           }
          ],
          "scatterpolar": [
           {
            "marker": {
             "colorbar": {
              "outlinewidth": 0,
              "ticks": ""
             }
            },
            "type": "scatterpolar"
           }
          ],
          "scatterpolargl": [
           {
            "marker": {
             "colorbar": {
              "outlinewidth": 0,
              "ticks": ""
             }
            },
            "type": "scatterpolargl"
           }
          ],
          "scatterternary": [
           {
            "marker": {
             "colorbar": {
              "outlinewidth": 0,
              "ticks": ""
             }
            },
            "type": "scatterternary"
           }
          ],
          "surface": [
           {
            "colorbar": {
             "outlinewidth": 0,
             "ticks": ""
            },
            "colorscale": [
             [
              0,
              "#0d0887"
             ],
             [
              0.1111111111111111,
              "#46039f"
             ],
             [
              0.2222222222222222,
              "#7201a8"
             ],
             [
              0.3333333333333333,
              "#9c179e"
             ],
             [
              0.4444444444444444,
              "#bd3786"
             ],
             [
              0.5555555555555556,
              "#d8576b"
             ],
             [
              0.6666666666666666,
              "#ed7953"
             ],
             [
              0.7777777777777778,
              "#fb9f3a"
             ],
             [
              0.8888888888888888,
              "#fdca26"
             ],
             [
              1,
              "#f0f921"
             ]
            ],
            "type": "surface"
           }
          ],
          "table": [
           {
            "cells": {
             "fill": {
              "color": "#EBF0F8"
             },
             "line": {
              "color": "white"
             }
            },
            "header": {
             "fill": {
              "color": "#C8D4E3"
             },
             "line": {
              "color": "white"
             }
            },
            "type": "table"
           }
          ]
         },
         "layout": {
          "annotationdefaults": {
           "arrowcolor": "#2a3f5f",
           "arrowhead": 0,
           "arrowwidth": 1
          },
          "autotypenumbers": "strict",
          "coloraxis": {
           "colorbar": {
            "outlinewidth": 0,
            "ticks": ""
           }
          },
          "colorscale": {
           "diverging": [
            [
             0,
             "#8e0152"
            ],
            [
             0.1,
             "#c51b7d"
            ],
            [
             0.2,
             "#de77ae"
            ],
            [
             0.3,
             "#f1b6da"
            ],
            [
             0.4,
             "#fde0ef"
            ],
            [
             0.5,
             "#f7f7f7"
            ],
            [
             0.6,
             "#e6f5d0"
            ],
            [
             0.7,
             "#b8e186"
            ],
            [
             0.8,
             "#7fbc41"
            ],
            [
             0.9,
             "#4d9221"
            ],
            [
             1,
             "#276419"
            ]
           ],
           "sequential": [
            [
             0,
             "#0d0887"
            ],
            [
             0.1111111111111111,
             "#46039f"
            ],
            [
             0.2222222222222222,
             "#7201a8"
            ],
            [
             0.3333333333333333,
             "#9c179e"
            ],
            [
             0.4444444444444444,
             "#bd3786"
            ],
            [
             0.5555555555555556,
             "#d8576b"
            ],
            [
             0.6666666666666666,
             "#ed7953"
            ],
            [
             0.7777777777777778,
             "#fb9f3a"
            ],
            [
             0.8888888888888888,
             "#fdca26"
            ],
            [
             1,
             "#f0f921"
            ]
           ],
           "sequentialminus": [
            [
             0,
             "#0d0887"
            ],
            [
             0.1111111111111111,
             "#46039f"
            ],
            [
             0.2222222222222222,
             "#7201a8"
            ],
            [
             0.3333333333333333,
             "#9c179e"
            ],
            [
             0.4444444444444444,
             "#bd3786"
            ],
            [
             0.5555555555555556,
             "#d8576b"
            ],
            [
             0.6666666666666666,
             "#ed7953"
            ],
            [
             0.7777777777777778,
             "#fb9f3a"
            ],
            [
             0.8888888888888888,
             "#fdca26"
            ],
            [
             1,
             "#f0f921"
            ]
           ]
          },
          "colorway": [
           "#636efa",
           "#EF553B",
           "#00cc96",
           "#ab63fa",
           "#FFA15A",
           "#19d3f3",
           "#FF6692",
           "#B6E880",
           "#FF97FF",
           "#FECB52"
          ],
          "font": {
           "color": "#2a3f5f"
          },
          "geo": {
           "bgcolor": "white",
           "lakecolor": "white",
           "landcolor": "#E5ECF6",
           "showlakes": true,
           "showland": true,
           "subunitcolor": "white"
          },
          "hoverlabel": {
           "align": "left"
          },
          "hovermode": "closest",
          "mapbox": {
           "style": "light"
          },
          "paper_bgcolor": "white",
          "plot_bgcolor": "#E5ECF6",
          "polar": {
           "angularaxis": {
            "gridcolor": "white",
            "linecolor": "white",
            "ticks": ""
           },
           "bgcolor": "#E5ECF6",
           "radialaxis": {
            "gridcolor": "white",
            "linecolor": "white",
            "ticks": ""
           }
          },
          "scene": {
           "xaxis": {
            "backgroundcolor": "#E5ECF6",
            "gridcolor": "white",
            "gridwidth": 2,
            "linecolor": "white",
            "showbackground": true,
            "ticks": "",
            "zerolinecolor": "white"
           },
           "yaxis": {
            "backgroundcolor": "#E5ECF6",
            "gridcolor": "white",
            "gridwidth": 2,
            "linecolor": "white",
            "showbackground": true,
            "ticks": "",
            "zerolinecolor": "white"
           },
           "zaxis": {
            "backgroundcolor": "#E5ECF6",
            "gridcolor": "white",
            "gridwidth": 2,
            "linecolor": "white",
            "showbackground": true,
            "ticks": "",
            "zerolinecolor": "white"
           }
          },
          "shapedefaults": {
           "line": {
            "color": "#2a3f5f"
           }
          },
          "ternary": {
           "aaxis": {
            "gridcolor": "white",
            "linecolor": "white",
            "ticks": ""
           },
           "baxis": {
            "gridcolor": "white",
            "linecolor": "white",
            "ticks": ""
           },
           "bgcolor": "#E5ECF6",
           "caxis": {
            "gridcolor": "white",
            "linecolor": "white",
            "ticks": ""
           }
          },
          "title": {
           "x": 0.05
          },
          "xaxis": {
           "automargin": true,
           "gridcolor": "white",
           "linecolor": "white",
           "ticks": "",
           "title": {
            "standoff": 15
           },
           "zerolinecolor": "white",
           "zerolinewidth": 2
          },
          "yaxis": {
           "automargin": true,
           "gridcolor": "white",
           "linecolor": "white",
           "ticks": "",
           "title": {
            "standoff": 15
           },
           "zerolinecolor": "white",
           "zerolinewidth": 2
          }
         }
        },
        "width": 800
       }
      }
     },
     "metadata": {},
     "output_type": "display_data"
    }
   ],
   "source": [
    "import plotly.express as px\n",
    "\n",
    "fig_temp = px.scatter_mapbox(\n",
    "        df,\n",
    "        lat=\"Latitude\",\n",
    "        lon=\"Longitude\",\n",
    "        color=\"Temperature\",\n",
    "        mapbox_style=\"open-street-map\",\n",
    "        color_continuous_scale=px.colors.sequential.Bluered,\n",
    "        zoom=4,\n",
    "        width=800\n",
    "    )\n",
    "fig_temp.show()"
   ]
  },
  {
   "cell_type": "code",
   "execution_count": 19,
   "metadata": {},
   "outputs": [
    {
     "data": {
      "application/vnd.plotly.v1+json": {
       "config": {
        "plotlyServerURL": "https://plot.ly"
       },
       "data": [
        {
         "hovertemplate": "Latitude=%{lat}<br>Longitude=%{lon}<br>Humidite=%{marker.color}<extra></extra>",
         "lat": [
          48.6359541,
          48.649518,
          49.2764624,
          49.4938975,
          49.4404591,
          48.8534951,
          49.8941708,
          50.6365654,
          48.584614,
          48.2495226,
          48.0777517,
          48.0447968,
          47.2380222,
          47.3215806,
          45.8992348,
          45.1875602,
          45.7578137,
          43.7496562,
          43.1506968,
          43.2140359,
          43.2961743,
          43.5298424,
          43.9492493,
          44.0121279,
          43.8374249,
          43.5661521,
          43.4515922,
          42.52505,
          43.2130358,
          42.9427221,
          43.6044622,
          44.0175835,
          43.4832523,
          43.4945144,
          46.1591126
         ],
         "legendgroup": "",
         "lon": [
          -1.511459954959514,
          -2.0260409,
          -0.7024738,
          0.1079732,
          1.0939658,
          2.3483915,
          2.2956951,
          3.0635282,
          7.7507127,
          7.3454923,
          7.3579641,
          7.3079618,
          6.0243622,
          5.0414701,
          6.1288847,
          5.7357819,
          4.8320114,
          6.3285616,
          6.3419285,
          5.5396318,
          5.3699525,
          5.4474738,
          4.8059012,
          4.4196718,
          4.3600687,
          4.19154,
          4.4277202,
          3.0831554,
          2.3491069,
          1.6164435,
          1.4442469,
          1.3549991,
          -1.5592776,
          -1.4736657,
          -1.1520434
         ],
         "marker": {
          "color": [
           39,
           53,
           37,
           59,
           42,
           30,
           49,
           48,
           53,
           54,
           58,
           58,
           52,
           54,
           46,
           40,
           43,
           31,
           53,
           59,
           56,
           30,
           23,
           28,
           24,
           45,
           53,
           38,
           18,
           33,
           22,
           24,
           47,
           39,
           50
          ],
          "coloraxis": "coloraxis"
         },
         "mode": "markers",
         "name": "",
         "showlegend": false,
         "subplot": "mapbox",
         "type": "scattermapbox"
        }
       ],
       "layout": {
        "coloraxis": {
         "colorbar": {
          "title": {
           "text": "Humidite"
          }
         },
         "colorscale": [
          [
           0,
           "rgb(247,251,255)"
          ],
          [
           0.125,
           "rgb(222,235,247)"
          ],
          [
           0.25,
           "rgb(198,219,239)"
          ],
          [
           0.375,
           "rgb(158,202,225)"
          ],
          [
           0.5,
           "rgb(107,174,214)"
          ],
          [
           0.625,
           "rgb(66,146,198)"
          ],
          [
           0.75,
           "rgb(33,113,181)"
          ],
          [
           0.875,
           "rgb(8,81,156)"
          ],
          [
           1,
           "rgb(8,48,107)"
          ]
         ]
        },
        "legend": {
         "tracegroupgap": 0
        },
        "mapbox": {
         "center": {
          "lat": 45.84108868285715,
          "lon": 3.402561015572585
         },
         "domain": {
          "x": [
           0,
           1
          ],
          "y": [
           0,
           1
          ]
         },
         "style": "open-street-map",
         "zoom": 4
        },
        "margin": {
         "t": 60
        },
        "template": {
         "data": {
          "bar": [
           {
            "error_x": {
             "color": "#2a3f5f"
            },
            "error_y": {
             "color": "#2a3f5f"
            },
            "marker": {
             "line": {
              "color": "#E5ECF6",
              "width": 0.5
             },
             "pattern": {
              "fillmode": "overlay",
              "size": 10,
              "solidity": 0.2
             }
            },
            "type": "bar"
           }
          ],
          "barpolar": [
           {
            "marker": {
             "line": {
              "color": "#E5ECF6",
              "width": 0.5
             },
             "pattern": {
              "fillmode": "overlay",
              "size": 10,
              "solidity": 0.2
             }
            },
            "type": "barpolar"
           }
          ],
          "carpet": [
           {
            "aaxis": {
             "endlinecolor": "#2a3f5f",
             "gridcolor": "white",
             "linecolor": "white",
             "minorgridcolor": "white",
             "startlinecolor": "#2a3f5f"
            },
            "baxis": {
             "endlinecolor": "#2a3f5f",
             "gridcolor": "white",
             "linecolor": "white",
             "minorgridcolor": "white",
             "startlinecolor": "#2a3f5f"
            },
            "type": "carpet"
           }
          ],
          "choropleth": [
           {
            "colorbar": {
             "outlinewidth": 0,
             "ticks": ""
            },
            "type": "choropleth"
           }
          ],
          "contour": [
           {
            "colorbar": {
             "outlinewidth": 0,
             "ticks": ""
            },
            "colorscale": [
             [
              0,
              "#0d0887"
             ],
             [
              0.1111111111111111,
              "#46039f"
             ],
             [
              0.2222222222222222,
              "#7201a8"
             ],
             [
              0.3333333333333333,
              "#9c179e"
             ],
             [
              0.4444444444444444,
              "#bd3786"
             ],
             [
              0.5555555555555556,
              "#d8576b"
             ],
             [
              0.6666666666666666,
              "#ed7953"
             ],
             [
              0.7777777777777778,
              "#fb9f3a"
             ],
             [
              0.8888888888888888,
              "#fdca26"
             ],
             [
              1,
              "#f0f921"
             ]
            ],
            "type": "contour"
           }
          ],
          "contourcarpet": [
           {
            "colorbar": {
             "outlinewidth": 0,
             "ticks": ""
            },
            "type": "contourcarpet"
           }
          ],
          "heatmap": [
           {
            "colorbar": {
             "outlinewidth": 0,
             "ticks": ""
            },
            "colorscale": [
             [
              0,
              "#0d0887"
             ],
             [
              0.1111111111111111,
              "#46039f"
             ],
             [
              0.2222222222222222,
              "#7201a8"
             ],
             [
              0.3333333333333333,
              "#9c179e"
             ],
             [
              0.4444444444444444,
              "#bd3786"
             ],
             [
              0.5555555555555556,
              "#d8576b"
             ],
             [
              0.6666666666666666,
              "#ed7953"
             ],
             [
              0.7777777777777778,
              "#fb9f3a"
             ],
             [
              0.8888888888888888,
              "#fdca26"
             ],
             [
              1,
              "#f0f921"
             ]
            ],
            "type": "heatmap"
           }
          ],
          "heatmapgl": [
           {
            "colorbar": {
             "outlinewidth": 0,
             "ticks": ""
            },
            "colorscale": [
             [
              0,
              "#0d0887"
             ],
             [
              0.1111111111111111,
              "#46039f"
             ],
             [
              0.2222222222222222,
              "#7201a8"
             ],
             [
              0.3333333333333333,
              "#9c179e"
             ],
             [
              0.4444444444444444,
              "#bd3786"
             ],
             [
              0.5555555555555556,
              "#d8576b"
             ],
             [
              0.6666666666666666,
              "#ed7953"
             ],
             [
              0.7777777777777778,
              "#fb9f3a"
             ],
             [
              0.8888888888888888,
              "#fdca26"
             ],
             [
              1,
              "#f0f921"
             ]
            ],
            "type": "heatmapgl"
           }
          ],
          "histogram": [
           {
            "marker": {
             "pattern": {
              "fillmode": "overlay",
              "size": 10,
              "solidity": 0.2
             }
            },
            "type": "histogram"
           }
          ],
          "histogram2d": [
           {
            "colorbar": {
             "outlinewidth": 0,
             "ticks": ""
            },
            "colorscale": [
             [
              0,
              "#0d0887"
             ],
             [
              0.1111111111111111,
              "#46039f"
             ],
             [
              0.2222222222222222,
              "#7201a8"
             ],
             [
              0.3333333333333333,
              "#9c179e"
             ],
             [
              0.4444444444444444,
              "#bd3786"
             ],
             [
              0.5555555555555556,
              "#d8576b"
             ],
             [
              0.6666666666666666,
              "#ed7953"
             ],
             [
              0.7777777777777778,
              "#fb9f3a"
             ],
             [
              0.8888888888888888,
              "#fdca26"
             ],
             [
              1,
              "#f0f921"
             ]
            ],
            "type": "histogram2d"
           }
          ],
          "histogram2dcontour": [
           {
            "colorbar": {
             "outlinewidth": 0,
             "ticks": ""
            },
            "colorscale": [
             [
              0,
              "#0d0887"
             ],
             [
              0.1111111111111111,
              "#46039f"
             ],
             [
              0.2222222222222222,
              "#7201a8"
             ],
             [
              0.3333333333333333,
              "#9c179e"
             ],
             [
              0.4444444444444444,
              "#bd3786"
             ],
             [
              0.5555555555555556,
              "#d8576b"
             ],
             [
              0.6666666666666666,
              "#ed7953"
             ],
             [
              0.7777777777777778,
              "#fb9f3a"
             ],
             [
              0.8888888888888888,
              "#fdca26"
             ],
             [
              1,
              "#f0f921"
             ]
            ],
            "type": "histogram2dcontour"
           }
          ],
          "mesh3d": [
           {
            "colorbar": {
             "outlinewidth": 0,
             "ticks": ""
            },
            "type": "mesh3d"
           }
          ],
          "parcoords": [
           {
            "line": {
             "colorbar": {
              "outlinewidth": 0,
              "ticks": ""
             }
            },
            "type": "parcoords"
           }
          ],
          "pie": [
           {
            "automargin": true,
            "type": "pie"
           }
          ],
          "scatter": [
           {
            "fillpattern": {
             "fillmode": "overlay",
             "size": 10,
             "solidity": 0.2
            },
            "type": "scatter"
           }
          ],
          "scatter3d": [
           {
            "line": {
             "colorbar": {
              "outlinewidth": 0,
              "ticks": ""
             }
            },
            "marker": {
             "colorbar": {
              "outlinewidth": 0,
              "ticks": ""
             }
            },
            "type": "scatter3d"
           }
          ],
          "scattercarpet": [
           {
            "marker": {
             "colorbar": {
              "outlinewidth": 0,
              "ticks": ""
             }
            },
            "type": "scattercarpet"
           }
          ],
          "scattergeo": [
           {
            "marker": {
             "colorbar": {
              "outlinewidth": 0,
              "ticks": ""
             }
            },
            "type": "scattergeo"
           }
          ],
          "scattergl": [
           {
            "marker": {
             "colorbar": {
              "outlinewidth": 0,
              "ticks": ""
             }
            },
            "type": "scattergl"
           }
          ],
          "scattermapbox": [
           {
            "marker": {
             "colorbar": {
              "outlinewidth": 0,
              "ticks": ""
             }
            },
            "type": "scattermapbox"
           }
          ],
          "scatterpolar": [
           {
            "marker": {
             "colorbar": {
              "outlinewidth": 0,
              "ticks": ""
             }
            },
            "type": "scatterpolar"
           }
          ],
          "scatterpolargl": [
           {
            "marker": {
             "colorbar": {
              "outlinewidth": 0,
              "ticks": ""
             }
            },
            "type": "scatterpolargl"
           }
          ],
          "scatterternary": [
           {
            "marker": {
             "colorbar": {
              "outlinewidth": 0,
              "ticks": ""
             }
            },
            "type": "scatterternary"
           }
          ],
          "surface": [
           {
            "colorbar": {
             "outlinewidth": 0,
             "ticks": ""
            },
            "colorscale": [
             [
              0,
              "#0d0887"
             ],
             [
              0.1111111111111111,
              "#46039f"
             ],
             [
              0.2222222222222222,
              "#7201a8"
             ],
             [
              0.3333333333333333,
              "#9c179e"
             ],
             [
              0.4444444444444444,
              "#bd3786"
             ],
             [
              0.5555555555555556,
              "#d8576b"
             ],
             [
              0.6666666666666666,
              "#ed7953"
             ],
             [
              0.7777777777777778,
              "#fb9f3a"
             ],
             [
              0.8888888888888888,
              "#fdca26"
             ],
             [
              1,
              "#f0f921"
             ]
            ],
            "type": "surface"
           }
          ],
          "table": [
           {
            "cells": {
             "fill": {
              "color": "#EBF0F8"
             },
             "line": {
              "color": "white"
             }
            },
            "header": {
             "fill": {
              "color": "#C8D4E3"
             },
             "line": {
              "color": "white"
             }
            },
            "type": "table"
           }
          ]
         },
         "layout": {
          "annotationdefaults": {
           "arrowcolor": "#2a3f5f",
           "arrowhead": 0,
           "arrowwidth": 1
          },
          "autotypenumbers": "strict",
          "coloraxis": {
           "colorbar": {
            "outlinewidth": 0,
            "ticks": ""
           }
          },
          "colorscale": {
           "diverging": [
            [
             0,
             "#8e0152"
            ],
            [
             0.1,
             "#c51b7d"
            ],
            [
             0.2,
             "#de77ae"
            ],
            [
             0.3,
             "#f1b6da"
            ],
            [
             0.4,
             "#fde0ef"
            ],
            [
             0.5,
             "#f7f7f7"
            ],
            [
             0.6,
             "#e6f5d0"
            ],
            [
             0.7,
             "#b8e186"
            ],
            [
             0.8,
             "#7fbc41"
            ],
            [
             0.9,
             "#4d9221"
            ],
            [
             1,
             "#276419"
            ]
           ],
           "sequential": [
            [
             0,
             "#0d0887"
            ],
            [
             0.1111111111111111,
             "#46039f"
            ],
            [
             0.2222222222222222,
             "#7201a8"
            ],
            [
             0.3333333333333333,
             "#9c179e"
            ],
            [
             0.4444444444444444,
             "#bd3786"
            ],
            [
             0.5555555555555556,
             "#d8576b"
            ],
            [
             0.6666666666666666,
             "#ed7953"
            ],
            [
             0.7777777777777778,
             "#fb9f3a"
            ],
            [
             0.8888888888888888,
             "#fdca26"
            ],
            [
             1,
             "#f0f921"
            ]
           ],
           "sequentialminus": [
            [
             0,
             "#0d0887"
            ],
            [
             0.1111111111111111,
             "#46039f"
            ],
            [
             0.2222222222222222,
             "#7201a8"
            ],
            [
             0.3333333333333333,
             "#9c179e"
            ],
            [
             0.4444444444444444,
             "#bd3786"
            ],
            [
             0.5555555555555556,
             "#d8576b"
            ],
            [
             0.6666666666666666,
             "#ed7953"
            ],
            [
             0.7777777777777778,
             "#fb9f3a"
            ],
            [
             0.8888888888888888,
             "#fdca26"
            ],
            [
             1,
             "#f0f921"
            ]
           ]
          },
          "colorway": [
           "#636efa",
           "#EF553B",
           "#00cc96",
           "#ab63fa",
           "#FFA15A",
           "#19d3f3",
           "#FF6692",
           "#B6E880",
           "#FF97FF",
           "#FECB52"
          ],
          "font": {
           "color": "#2a3f5f"
          },
          "geo": {
           "bgcolor": "white",
           "lakecolor": "white",
           "landcolor": "#E5ECF6",
           "showlakes": true,
           "showland": true,
           "subunitcolor": "white"
          },
          "hoverlabel": {
           "align": "left"
          },
          "hovermode": "closest",
          "mapbox": {
           "style": "light"
          },
          "paper_bgcolor": "white",
          "plot_bgcolor": "#E5ECF6",
          "polar": {
           "angularaxis": {
            "gridcolor": "white",
            "linecolor": "white",
            "ticks": ""
           },
           "bgcolor": "#E5ECF6",
           "radialaxis": {
            "gridcolor": "white",
            "linecolor": "white",
            "ticks": ""
           }
          },
          "scene": {
           "xaxis": {
            "backgroundcolor": "#E5ECF6",
            "gridcolor": "white",
            "gridwidth": 2,
            "linecolor": "white",
            "showbackground": true,
            "ticks": "",
            "zerolinecolor": "white"
           },
           "yaxis": {
            "backgroundcolor": "#E5ECF6",
            "gridcolor": "white",
            "gridwidth": 2,
            "linecolor": "white",
            "showbackground": true,
            "ticks": "",
            "zerolinecolor": "white"
           },
           "zaxis": {
            "backgroundcolor": "#E5ECF6",
            "gridcolor": "white",
            "gridwidth": 2,
            "linecolor": "white",
            "showbackground": true,
            "ticks": "",
            "zerolinecolor": "white"
           }
          },
          "shapedefaults": {
           "line": {
            "color": "#2a3f5f"
           }
          },
          "ternary": {
           "aaxis": {
            "gridcolor": "white",
            "linecolor": "white",
            "ticks": ""
           },
           "baxis": {
            "gridcolor": "white",
            "linecolor": "white",
            "ticks": ""
           },
           "bgcolor": "#E5ECF6",
           "caxis": {
            "gridcolor": "white",
            "linecolor": "white",
            "ticks": ""
           }
          },
          "title": {
           "x": 0.05
          },
          "xaxis": {
           "automargin": true,
           "gridcolor": "white",
           "linecolor": "white",
           "ticks": "",
           "title": {
            "standoff": 15
           },
           "zerolinecolor": "white",
           "zerolinewidth": 2
          },
          "yaxis": {
           "automargin": true,
           "gridcolor": "white",
           "linecolor": "white",
           "ticks": "",
           "title": {
            "standoff": 15
           },
           "zerolinecolor": "white",
           "zerolinewidth": 2
          }
         }
        },
        "width": 800
       }
      }
     },
     "metadata": {},
     "output_type": "display_data"
    }
   ],
   "source": [
    "fig_hum = px.scatter_mapbox(\n",
    "        df,\n",
    "        lat=\"Latitude\",\n",
    "        lon=\"Longitude\",\n",
    "        color=\"Humidite\",\n",
    "        mapbox_style=\"open-street-map\",\n",
    "        color_continuous_scale=px.colors.sequential.Blues,\n",
    "        zoom=4,\n",
    "        width=800\n",
    "    )\n",
    "fig_hum.show()"
   ]
  },
  {
   "cell_type": "markdown",
   "metadata": {},
   "source": [
    "Si on préfère les villes les moins humides, le top 5 serait donc :\n",
    "Carcassonne (18), Toulouse (22), Avignon (23), Montauban (24), Uzes (28)"
   ]
  },
  {
   "cell_type": "markdown",
   "metadata": {},
   "source": [
    "## 2. Scrape Booking.com"
   ]
  },
  {
   "cell_type": "code",
   "execution_count": 9,
   "metadata": {},
   "outputs": [
    {
     "data": {
      "text/plain": [
       "['https://www.booking.com/searchresults.fr.html?ss=Mont%20Saint%20Michel',\n",
       " 'https://www.booking.com/searchresults.fr.html?ss=St%20Malo',\n",
       " 'https://www.booking.com/searchresults.fr.html?ss=Bayeux',\n",
       " 'https://www.booking.com/searchresults.fr.html?ss=Le%20Havre',\n",
       " 'https://www.booking.com/searchresults.fr.html?ss=Rouen',\n",
       " 'https://www.booking.com/searchresults.fr.html?ss=Paris',\n",
       " 'https://www.booking.com/searchresults.fr.html?ss=Amiens',\n",
       " 'https://www.booking.com/searchresults.fr.html?ss=Lille',\n",
       " 'https://www.booking.com/searchresults.fr.html?ss=Strasbourg',\n",
       " 'https://www.booking.com/searchresults.fr.html?ss=Chateau%20du%20Haut%20Koenigsbourg',\n",
       " 'https://www.booking.com/searchresults.fr.html?ss=Colmar',\n",
       " 'https://www.booking.com/searchresults.fr.html?ss=Eguisheim',\n",
       " 'https://www.booking.com/searchresults.fr.html?ss=Besancon',\n",
       " 'https://www.booking.com/searchresults.fr.html?ss=Dijon',\n",
       " 'https://www.booking.com/searchresults.fr.html?ss=Annecy',\n",
       " 'https://www.booking.com/searchresults.fr.html?ss=Grenoble',\n",
       " 'https://www.booking.com/searchresults.fr.html?ss=Lyon',\n",
       " 'https://www.booking.com/searchresults.fr.html?ss=Gorges%20du%20Verdon',\n",
       " 'https://www.booking.com/searchresults.fr.html?ss=Bormes%20les%20Mimosas',\n",
       " 'https://www.booking.com/searchresults.fr.html?ss=Cassis',\n",
       " 'https://www.booking.com/searchresults.fr.html?ss=Marseille',\n",
       " 'https://www.booking.com/searchresults.fr.html?ss=Aix%20en%20Provence',\n",
       " 'https://www.booking.com/searchresults.fr.html?ss=Avignon',\n",
       " 'https://www.booking.com/searchresults.fr.html?ss=Uzes',\n",
       " 'https://www.booking.com/searchresults.fr.html?ss=Nimes',\n",
       " 'https://www.booking.com/searchresults.fr.html?ss=Aigues%20Mortes',\n",
       " 'https://www.booking.com/searchresults.fr.html?ss=Saintes%20Maries%20de%20la%20mer',\n",
       " 'https://www.booking.com/searchresults.fr.html?ss=Collioure',\n",
       " 'https://www.booking.com/searchresults.fr.html?ss=Carcassonne',\n",
       " 'https://www.booking.com/searchresults.fr.html?ss=Ariege',\n",
       " 'https://www.booking.com/searchresults.fr.html?ss=Toulouse',\n",
       " 'https://www.booking.com/searchresults.fr.html?ss=Montauban',\n",
       " 'https://www.booking.com/searchresults.fr.html?ss=Biarritz',\n",
       " 'https://www.booking.com/searchresults.fr.html?ss=Bayonne',\n",
       " 'https://www.booking.com/searchresults.fr.html?ss=La%20Rochelle']"
      ]
     },
     "execution_count": 9,
     "metadata": {},
     "output_type": "execute_result"
    }
   ],
   "source": [
    "# Pour scraper Booking.com, on recherche les liens de recherche pour chaque ville\n",
    "\n",
    "list_urls_cities = ['https://www.booking.com/searchresults.fr.html?ss=' + element.replace(' ','%20') for element in list_cities]\n",
    "list_urls_cities"
   ]
  },
  {
   "cell_type": "code",
   "execution_count": 6,
   "metadata": {},
   "outputs": [
    {
     "name": "stdout",
     "output_type": "stream",
     "text": [
      "New Scrapy project 'projet_booking', using template directory 'C:\\Users\\pierr\\anaconda3\\Lib\\site-packages\\scrapy\\templates\\project', created in:\n",
      "    C:\\Users\\pierr\\OneDrive\\Documents\\Formation\\Formation Jedha\\Jedha_Training\\Projets Portfolio\\M03-Collecte et management des données\\projet_booking\n",
      "\n",
      "You can start your first spider with:\n",
      "    cd projet_booking\n",
      "    scrapy genspider example example.com\n"
     ]
    }
   ],
   "source": [
    "# Lancer un projet Scrapy\n",
    "!scrapy startproject projet_booking"
   ]
  },
  {
   "cell_type": "code",
   "execution_count": 7,
   "metadata": {},
   "outputs": [
    {
     "name": "stdout",
     "output_type": "stream",
     "text": [
      "Collecting scrapy-rotating-proxies\n",
      "  Downloading scrapy_rotating_proxies-0.6.2-py2.py3-none-any.whl (15 kB)\n",
      "Requirement already satisfied: attrs>16.0.0 in c:\\users\\pierr\\anaconda3\\lib\\site-packages (from scrapy-rotating-proxies) (23.1.0)\n",
      "Requirement already satisfied: six in c:\\users\\pierr\\anaconda3\\lib\\site-packages (from scrapy-rotating-proxies) (1.16.0)\n",
      "Collecting typing (from scrapy-rotating-proxies)\n",
      "  Downloading typing-3.7.4.3.tar.gz (78 kB)\n",
      "     ---------------------------------------- 0.0/78.6 kB ? eta -:--:--\n",
      "     ----- ---------------------------------- 10.2/78.6 kB ? eta -:--:--\n",
      "     ------------------- ------------------ 41.0/78.6 kB 667.8 kB/s eta 0:00:01\n",
      "     -------------------------------------- 78.6/78.6 kB 876.3 kB/s eta 0:00:00\n",
      "  Preparing metadata (setup.py): started\n",
      "  Preparing metadata (setup.py): finished with status 'done'\n",
      "Building wheels for collected packages: typing\n",
      "  Building wheel for typing (setup.py): started\n",
      "  Building wheel for typing (setup.py): finished with status 'done'\n",
      "  Created wheel for typing: filename=typing-3.7.4.3-py3-none-any.whl size=26325 sha256=901a9df537b47d8d5b346c1c68ab1dd1a7665bcf22e8b0f2e6e8aca4caea893d\n",
      "  Stored in directory: c:\\users\\pierr\\appdata\\local\\pip\\cache\\wheels\\9d\\67\\2f\\53e3ef32ec48d11d7d60245255e2d71e908201d20c880c08ee\n",
      "Successfully built typing\n",
      "Installing collected packages: typing, scrapy-rotating-proxies\n",
      "Successfully installed scrapy-rotating-proxies-0.6.2 typing-3.7.4.3\n"
     ]
    }
   ],
   "source": [
    "!pip install scrapy-rotating-proxies"
   ]
  },
  {
   "cell_type": "code",
   "execution_count": 10,
   "metadata": {},
   "outputs": [
    {
     "data": {
      "text/html": [
       "<div>\n",
       "<style scoped>\n",
       "    .dataframe tbody tr th:only-of-type {\n",
       "        vertical-align: middle;\n",
       "    }\n",
       "\n",
       "    .dataframe tbody tr th {\n",
       "        vertical-align: top;\n",
       "    }\n",
       "\n",
       "    .dataframe thead th {\n",
       "        text-align: right;\n",
       "    }\n",
       "</style>\n",
       "<table border=\"1\" class=\"dataframe\">\n",
       "  <thead>\n",
       "    <tr style=\"text-align: right;\">\n",
       "      <th></th>\n",
       "      <th>ip</th>\n",
       "      <th>port</th>\n",
       "      <th>anonymityLevel</th>\n",
       "      <th>asn</th>\n",
       "      <th>country</th>\n",
       "      <th>isp</th>\n",
       "      <th>latency</th>\n",
       "      <th>org</th>\n",
       "      <th>protocols</th>\n",
       "      <th>responseTime</th>\n",
       "      <th>speed</th>\n",
       "      <th>updated_at</th>\n",
       "      <th>upTime</th>\n",
       "      <th>upTimeSuccessCount</th>\n",
       "      <th>upTimeTryCount</th>\n",
       "    </tr>\n",
       "  </thead>\n",
       "  <tbody>\n",
       "    <tr>\n",
       "      <th>0</th>\n",
       "      <td>38.91.106.204</td>\n",
       "      <td>40103</td>\n",
       "      <td>elite</td>\n",
       "      <td>NaN</td>\n",
       "      <td>US</td>\n",
       "      <td>NaN</td>\n",
       "      <td>73.0</td>\n",
       "      <td>NaN</td>\n",
       "      <td>socks5</td>\n",
       "      <td>NaN</td>\n",
       "      <td>1.0</td>\n",
       "      <td>2022-01-14T16:01:23.480Z</td>\n",
       "      <td>100</td>\n",
       "      <td>4616</td>\n",
       "      <td>4622</td>\n",
       "    </tr>\n",
       "    <tr>\n",
       "      <th>1</th>\n",
       "      <td>147.135.255.62</td>\n",
       "      <td>8242</td>\n",
       "      <td>elite</td>\n",
       "      <td>AS16276</td>\n",
       "      <td>FR</td>\n",
       "      <td>OVH SAS</td>\n",
       "      <td>144.0</td>\n",
       "      <td>OVH</td>\n",
       "      <td>http</td>\n",
       "      <td>61.0</td>\n",
       "      <td>286.0</td>\n",
       "      <td>2022-01-14T16:01:21.197Z</td>\n",
       "      <td>100</td>\n",
       "      <td>54</td>\n",
       "      <td>54</td>\n",
       "    </tr>\n",
       "    <tr>\n",
       "      <th>2</th>\n",
       "      <td>178.128.178.169</td>\n",
       "      <td>3128</td>\n",
       "      <td>transparent</td>\n",
       "      <td>NaN</td>\n",
       "      <td>US</td>\n",
       "      <td>NaN</td>\n",
       "      <td>2.0</td>\n",
       "      <td>NaN</td>\n",
       "      <td>https</td>\n",
       "      <td>NaN</td>\n",
       "      <td>NaN</td>\n",
       "      <td>2022-01-14T16:01:21.307Z</td>\n",
       "      <td>100</td>\n",
       "      <td>4811</td>\n",
       "      <td>4811</td>\n",
       "    </tr>\n",
       "    <tr>\n",
       "      <th>3</th>\n",
       "      <td>43.249.224.170</td>\n",
       "      <td>84</td>\n",
       "      <td>transparent</td>\n",
       "      <td>AS18229</td>\n",
       "      <td>IN</td>\n",
       "      <td>Equinox Consulting PVT LTD</td>\n",
       "      <td>221.0</td>\n",
       "      <td>Pioneer Elabs Ltd.</td>\n",
       "      <td>http</td>\n",
       "      <td>46.0</td>\n",
       "      <td>NaN</td>\n",
       "      <td>2022-01-14T16:01:20.509Z</td>\n",
       "      <td>100</td>\n",
       "      <td>73</td>\n",
       "      <td>73</td>\n",
       "    </tr>\n",
       "    <tr>\n",
       "      <th>4</th>\n",
       "      <td>62.109.31.192</td>\n",
       "      <td>20000</td>\n",
       "      <td>elite</td>\n",
       "      <td>AS29182</td>\n",
       "      <td>RU</td>\n",
       "      <td>Cjsc the First</td>\n",
       "      <td>181.0</td>\n",
       "      <td>TheFirst</td>\n",
       "      <td>socks5</td>\n",
       "      <td>35.0</td>\n",
       "      <td>1.0</td>\n",
       "      <td>2022-01-14T16:01:17.958Z</td>\n",
       "      <td>100</td>\n",
       "      <td>54</td>\n",
       "      <td>54</td>\n",
       "    </tr>\n",
       "  </tbody>\n",
       "</table>\n",
       "</div>"
      ],
      "text/plain": [
       "                ip   port anonymityLevel      asn country  \\\n",
       "0    38.91.106.204  40103          elite      NaN      US   \n",
       "1   147.135.255.62   8242          elite  AS16276      FR   \n",
       "2  178.128.178.169   3128    transparent      NaN      US   \n",
       "3   43.249.224.170     84    transparent  AS18229      IN   \n",
       "4    62.109.31.192  20000          elite  AS29182      RU   \n",
       "\n",
       "                          isp  latency                 org protocols  \\\n",
       "0                         NaN     73.0                 NaN    socks5   \n",
       "1                     OVH SAS    144.0                 OVH      http   \n",
       "2                         NaN      2.0                 NaN     https   \n",
       "3  Equinox Consulting PVT LTD    221.0  Pioneer Elabs Ltd.      http   \n",
       "4              Cjsc the First    181.0            TheFirst    socks5   \n",
       "\n",
       "   responseTime  speed                updated_at  upTime  upTimeSuccessCount  \\\n",
       "0           NaN    1.0  2022-01-14T16:01:23.480Z     100                4616   \n",
       "1          61.0  286.0  2022-01-14T16:01:21.197Z     100                  54   \n",
       "2           NaN    NaN  2022-01-14T16:01:21.307Z     100                4811   \n",
       "3          46.0    NaN  2022-01-14T16:01:20.509Z     100                  73   \n",
       "4          35.0    1.0  2022-01-14T16:01:17.958Z     100                  54   \n",
       "\n",
       "   upTimeTryCount  \n",
       "0            4622  \n",
       "1              54  \n",
       "2            4811  \n",
       "3              73  \n",
       "4              54  "
      ]
     },
     "execution_count": 10,
     "metadata": {},
     "output_type": "execute_result"
    }
   ],
   "source": [
    "proxy = pd.read_csv(\"Free_Proxy_List.csv\")\n",
    "proxy.head()"
   ]
  },
  {
   "cell_type": "code",
   "execution_count": 42,
   "metadata": {},
   "outputs": [
    {
     "data": {
      "text/html": [
       "<div>\n",
       "<style scoped>\n",
       "    .dataframe tbody tr th:only-of-type {\n",
       "        vertical-align: middle;\n",
       "    }\n",
       "\n",
       "    .dataframe tbody tr th {\n",
       "        vertical-align: top;\n",
       "    }\n",
       "\n",
       "    .dataframe thead th {\n",
       "        text-align: right;\n",
       "    }\n",
       "</style>\n",
       "<table border=\"1\" class=\"dataframe\">\n",
       "  <thead>\n",
       "    <tr style=\"text-align: right;\">\n",
       "      <th></th>\n",
       "      <th>hotel_url</th>\n",
       "      <th>name</th>\n",
       "      <th>coord</th>\n",
       "      <th>description</th>\n",
       "      <th>review</th>\n",
       "      <th>stars</th>\n",
       "    </tr>\n",
       "  </thead>\n",
       "  <tbody>\n",
       "    <tr>\n",
       "      <th>0</th>\n",
       "      <td>https://www.booking.com/hotel/fr/hotel-saint-a...</td>\n",
       "      <td>Le Saint Aubert</td>\n",
       "      <td>48.61293783,-1.51010513</td>\n",
       "      <td>Niché dans un écrin de verdure, à seulement 2 ...</td>\n",
       "      <td>7,2</td>\n",
       "      <td>0</td>\n",
       "    </tr>\n",
       "    <tr>\n",
       "      <th>1</th>\n",
       "      <td>https://www.booking.com/hotel/fr/la-vieille-au...</td>\n",
       "      <td>La Vieille Auberge</td>\n",
       "      <td>48.63606300,-1.51145700</td>\n",
       "      <td>La Vieille Auberge vous accueille dans le vill...</td>\n",
       "      <td>7,4</td>\n",
       "      <td>0</td>\n",
       "    </tr>\n",
       "    <tr>\n",
       "      <th>2</th>\n",
       "      <td>https://www.booking.com/hotel/fr/d-aleth.fr.html</td>\n",
       "      <td>Hotel d'Aleth</td>\n",
       "      <td>48.63593081,-2.02171236</td>\n",
       "      <td>Situé en face du port des Bas Sablons, l'Hotel...</td>\n",
       "      <td>7,8</td>\n",
       "      <td>0</td>\n",
       "    </tr>\n",
       "    <tr>\n",
       "      <th>3</th>\n",
       "      <td>https://www.booking.com/hotel/fr/hotel-gabriel...</td>\n",
       "      <td>Hotel Gabriel</td>\n",
       "      <td>48.61538141,-1.51070997</td>\n",
       "      <td>L’Hotel Gabriel vous accueille à 1,6 km du Mon...</td>\n",
       "      <td>8,0</td>\n",
       "      <td>0</td>\n",
       "    </tr>\n",
       "    <tr>\n",
       "      <th>4</th>\n",
       "      <td>https://www.booking.com/hotel/fr/chambre-priva...</td>\n",
       "      <td>B&amp;B de la roseraie</td>\n",
       "      <td>49.29158754,-0.70337099</td>\n",
       "      <td>Situé à Bayeux, à seulement 1,8 km de la cathé...</td>\n",
       "      <td>8,8</td>\n",
       "      <td>3</td>\n",
       "    </tr>\n",
       "  </tbody>\n",
       "</table>\n",
       "</div>"
      ],
      "text/plain": [
       "                                           hotel_url                name  \\\n",
       "0  https://www.booking.com/hotel/fr/hotel-saint-a...     Le Saint Aubert   \n",
       "1  https://www.booking.com/hotel/fr/la-vieille-au...  La Vieille Auberge   \n",
       "2   https://www.booking.com/hotel/fr/d-aleth.fr.html       Hotel d'Aleth   \n",
       "3  https://www.booking.com/hotel/fr/hotel-gabriel...       Hotel Gabriel   \n",
       "4  https://www.booking.com/hotel/fr/chambre-priva...  B&B de la roseraie   \n",
       "\n",
       "                     coord                                        description  \\\n",
       "0  48.61293783,-1.51010513  Niché dans un écrin de verdure, à seulement 2 ...   \n",
       "1  48.63606300,-1.51145700  La Vieille Auberge vous accueille dans le vill...   \n",
       "2  48.63593081,-2.02171236  Situé en face du port des Bas Sablons, l'Hotel...   \n",
       "3  48.61538141,-1.51070997  L’Hotel Gabriel vous accueille à 1,6 km du Mon...   \n",
       "4  49.29158754,-0.70337099  Situé à Bayeux, à seulement 1,8 km de la cathé...   \n",
       "\n",
       "  review  stars  \n",
       "0    7,2      0  \n",
       "1    7,4      0  \n",
       "2    7,8      0  \n",
       "3    8,0      0  \n",
       "4    8,8      3  "
      ]
     },
     "execution_count": 42,
     "metadata": {},
     "output_type": "execute_result"
    }
   ],
   "source": [
    "hotel_infos = pd.read_json(\"projet_booking/spiders/bookingscrap.json\")\n",
    "hotel_infos.head()"
   ]
  },
  {
   "cell_type": "code",
   "execution_count": 43,
   "metadata": {},
   "outputs": [
    {
     "data": {
      "text/html": [
       "<div>\n",
       "<style scoped>\n",
       "    .dataframe tbody tr th:only-of-type {\n",
       "        vertical-align: middle;\n",
       "    }\n",
       "\n",
       "    .dataframe tbody tr th {\n",
       "        vertical-align: top;\n",
       "    }\n",
       "\n",
       "    .dataframe thead th {\n",
       "        text-align: right;\n",
       "    }\n",
       "</style>\n",
       "<table border=\"1\" class=\"dataframe\">\n",
       "  <thead>\n",
       "    <tr style=\"text-align: right;\">\n",
       "      <th></th>\n",
       "      <th>hotel_url</th>\n",
       "      <th>name</th>\n",
       "      <th>coord</th>\n",
       "      <th>description</th>\n",
       "      <th>review</th>\n",
       "      <th>stars</th>\n",
       "    </tr>\n",
       "  </thead>\n",
       "  <tbody>\n",
       "    <tr>\n",
       "      <th>0</th>\n",
       "      <td>https://www.booking.com/hotel/fr/hotel-saint-a...</td>\n",
       "      <td>Le Saint Aubert</td>\n",
       "      <td>48.61293783,-1.51010513</td>\n",
       "      <td>Niché dans un écrin de verdure, à seulement 2 ...</td>\n",
       "      <td>7,2</td>\n",
       "      <td>NaN</td>\n",
       "    </tr>\n",
       "    <tr>\n",
       "      <th>1</th>\n",
       "      <td>https://www.booking.com/hotel/fr/la-vieille-au...</td>\n",
       "      <td>La Vieille Auberge</td>\n",
       "      <td>48.63606300,-1.51145700</td>\n",
       "      <td>La Vieille Auberge vous accueille dans le vill...</td>\n",
       "      <td>7,4</td>\n",
       "      <td>NaN</td>\n",
       "    </tr>\n",
       "    <tr>\n",
       "      <th>2</th>\n",
       "      <td>https://www.booking.com/hotel/fr/d-aleth.fr.html</td>\n",
       "      <td>Hotel d'Aleth</td>\n",
       "      <td>48.63593081,-2.02171236</td>\n",
       "      <td>Situé en face du port des Bas Sablons, l'Hotel...</td>\n",
       "      <td>7,8</td>\n",
       "      <td>NaN</td>\n",
       "    </tr>\n",
       "    <tr>\n",
       "      <th>3</th>\n",
       "      <td>https://www.booking.com/hotel/fr/hotel-gabriel...</td>\n",
       "      <td>Hotel Gabriel</td>\n",
       "      <td>48.61538141,-1.51070997</td>\n",
       "      <td>L’Hotel Gabriel vous accueille à 1,6 km du Mon...</td>\n",
       "      <td>8,0</td>\n",
       "      <td>NaN</td>\n",
       "    </tr>\n",
       "    <tr>\n",
       "      <th>4</th>\n",
       "      <td>https://www.booking.com/hotel/fr/chambre-priva...</td>\n",
       "      <td>B&amp;B de la roseraie</td>\n",
       "      <td>49.29158754,-0.70337099</td>\n",
       "      <td>Situé à Bayeux, à seulement 1,8 km de la cathé...</td>\n",
       "      <td>8,8</td>\n",
       "      <td>3.0</td>\n",
       "    </tr>\n",
       "  </tbody>\n",
       "</table>\n",
       "</div>"
      ],
      "text/plain": [
       "                                           hotel_url                name  \\\n",
       "0  https://www.booking.com/hotel/fr/hotel-saint-a...     Le Saint Aubert   \n",
       "1  https://www.booking.com/hotel/fr/la-vieille-au...  La Vieille Auberge   \n",
       "2   https://www.booking.com/hotel/fr/d-aleth.fr.html       Hotel d'Aleth   \n",
       "3  https://www.booking.com/hotel/fr/hotel-gabriel...       Hotel Gabriel   \n",
       "4  https://www.booking.com/hotel/fr/chambre-priva...  B&B de la roseraie   \n",
       "\n",
       "                     coord                                        description  \\\n",
       "0  48.61293783,-1.51010513  Niché dans un écrin de verdure, à seulement 2 ...   \n",
       "1  48.63606300,-1.51145700  La Vieille Auberge vous accueille dans le vill...   \n",
       "2  48.63593081,-2.02171236  Situé en face du port des Bas Sablons, l'Hotel...   \n",
       "3  48.61538141,-1.51070997  L’Hotel Gabriel vous accueille à 1,6 km du Mon...   \n",
       "4  49.29158754,-0.70337099  Situé à Bayeux, à seulement 1,8 km de la cathé...   \n",
       "\n",
       "  review  stars  \n",
       "0    7,2    NaN  \n",
       "1    7,4    NaN  \n",
       "2    7,8    NaN  \n",
       "3    8,0    NaN  \n",
       "4    8,8    3.0  "
      ]
     },
     "execution_count": 43,
     "metadata": {},
     "output_type": "execute_result"
    }
   ],
   "source": [
    "hotel_infos['stars'] = hotel_infos['stars'].apply(lambda x: None if x==0 else x)\n",
    "hotel_infos.head()"
   ]
  },
  {
   "cell_type": "code",
   "execution_count": 44,
   "metadata": {},
   "outputs": [],
   "source": [
    "hotel_infos['coord_lat'] = hotel_infos['coord'].apply(lambda x: x.split(',')[0])\n",
    "hotel_infos['coord_lon'] = hotel_infos['coord'].apply(lambda x: x.split(',')[1])"
   ]
  },
  {
   "cell_type": "code",
   "execution_count": 45,
   "metadata": {},
   "outputs": [
    {
     "data": {
      "text/html": [
       "<div>\n",
       "<style scoped>\n",
       "    .dataframe tbody tr th:only-of-type {\n",
       "        vertical-align: middle;\n",
       "    }\n",
       "\n",
       "    .dataframe tbody tr th {\n",
       "        vertical-align: top;\n",
       "    }\n",
       "\n",
       "    .dataframe thead th {\n",
       "        text-align: right;\n",
       "    }\n",
       "</style>\n",
       "<table border=\"1\" class=\"dataframe\">\n",
       "  <thead>\n",
       "    <tr style=\"text-align: right;\">\n",
       "      <th></th>\n",
       "      <th>hotel_url</th>\n",
       "      <th>name</th>\n",
       "      <th>coord</th>\n",
       "      <th>description</th>\n",
       "      <th>review</th>\n",
       "      <th>stars</th>\n",
       "      <th>coord_lat</th>\n",
       "      <th>coord_lon</th>\n",
       "    </tr>\n",
       "  </thead>\n",
       "  <tbody>\n",
       "    <tr>\n",
       "      <th>0</th>\n",
       "      <td>https://www.booking.com/hotel/fr/hotel-saint-a...</td>\n",
       "      <td>Le Saint Aubert</td>\n",
       "      <td>48.61293783,-1.51010513</td>\n",
       "      <td>Niché dans un écrin de verdure, à seulement 2 ...</td>\n",
       "      <td>7,2</td>\n",
       "      <td>NaN</td>\n",
       "      <td>48.61293783</td>\n",
       "      <td>-1.51010513</td>\n",
       "    </tr>\n",
       "    <tr>\n",
       "      <th>1</th>\n",
       "      <td>https://www.booking.com/hotel/fr/la-vieille-au...</td>\n",
       "      <td>La Vieille Auberge</td>\n",
       "      <td>48.63606300,-1.51145700</td>\n",
       "      <td>La Vieille Auberge vous accueille dans le vill...</td>\n",
       "      <td>7,4</td>\n",
       "      <td>NaN</td>\n",
       "      <td>48.63606300</td>\n",
       "      <td>-1.51145700</td>\n",
       "    </tr>\n",
       "    <tr>\n",
       "      <th>2</th>\n",
       "      <td>https://www.booking.com/hotel/fr/d-aleth.fr.html</td>\n",
       "      <td>Hotel d'Aleth</td>\n",
       "      <td>48.63593081,-2.02171236</td>\n",
       "      <td>Situé en face du port des Bas Sablons, l'Hotel...</td>\n",
       "      <td>7,8</td>\n",
       "      <td>NaN</td>\n",
       "      <td>48.63593081</td>\n",
       "      <td>-2.02171236</td>\n",
       "    </tr>\n",
       "    <tr>\n",
       "      <th>3</th>\n",
       "      <td>https://www.booking.com/hotel/fr/hotel-gabriel...</td>\n",
       "      <td>Hotel Gabriel</td>\n",
       "      <td>48.61538141,-1.51070997</td>\n",
       "      <td>L’Hotel Gabriel vous accueille à 1,6 km du Mon...</td>\n",
       "      <td>8,0</td>\n",
       "      <td>NaN</td>\n",
       "      <td>48.61538141</td>\n",
       "      <td>-1.51070997</td>\n",
       "    </tr>\n",
       "    <tr>\n",
       "      <th>4</th>\n",
       "      <td>https://www.booking.com/hotel/fr/chambre-priva...</td>\n",
       "      <td>B&amp;B de la roseraie</td>\n",
       "      <td>49.29158754,-0.70337099</td>\n",
       "      <td>Situé à Bayeux, à seulement 1,8 km de la cathé...</td>\n",
       "      <td>8,8</td>\n",
       "      <td>3.0</td>\n",
       "      <td>49.29158754</td>\n",
       "      <td>-0.70337099</td>\n",
       "    </tr>\n",
       "  </tbody>\n",
       "</table>\n",
       "</div>"
      ],
      "text/plain": [
       "                                           hotel_url                name  \\\n",
       "0  https://www.booking.com/hotel/fr/hotel-saint-a...     Le Saint Aubert   \n",
       "1  https://www.booking.com/hotel/fr/la-vieille-au...  La Vieille Auberge   \n",
       "2   https://www.booking.com/hotel/fr/d-aleth.fr.html       Hotel d'Aleth   \n",
       "3  https://www.booking.com/hotel/fr/hotel-gabriel...       Hotel Gabriel   \n",
       "4  https://www.booking.com/hotel/fr/chambre-priva...  B&B de la roseraie   \n",
       "\n",
       "                     coord                                        description  \\\n",
       "0  48.61293783,-1.51010513  Niché dans un écrin de verdure, à seulement 2 ...   \n",
       "1  48.63606300,-1.51145700  La Vieille Auberge vous accueille dans le vill...   \n",
       "2  48.63593081,-2.02171236  Situé en face du port des Bas Sablons, l'Hotel...   \n",
       "3  48.61538141,-1.51070997  L’Hotel Gabriel vous accueille à 1,6 km du Mon...   \n",
       "4  49.29158754,-0.70337099  Situé à Bayeux, à seulement 1,8 km de la cathé...   \n",
       "\n",
       "  review  stars    coord_lat    coord_lon  \n",
       "0    7,2    NaN  48.61293783  -1.51010513  \n",
       "1    7,4    NaN  48.63606300  -1.51145700  \n",
       "2    7,8    NaN  48.63593081  -2.02171236  \n",
       "3    8,0    NaN  48.61538141  -1.51070997  \n",
       "4    8,8    3.0  49.29158754  -0.70337099  "
      ]
     },
     "execution_count": 45,
     "metadata": {},
     "output_type": "execute_result"
    }
   ],
   "source": [
    "hotel_infos.head()"
   ]
  },
  {
   "cell_type": "code",
   "execution_count": 46,
   "metadata": {},
   "outputs": [
    {
     "data": {
      "text/html": [
       "<div>\n",
       "<style scoped>\n",
       "    .dataframe tbody tr th:only-of-type {\n",
       "        vertical-align: middle;\n",
       "    }\n",
       "\n",
       "    .dataframe tbody tr th {\n",
       "        vertical-align: top;\n",
       "    }\n",
       "\n",
       "    .dataframe thead th {\n",
       "        text-align: right;\n",
       "    }\n",
       "</style>\n",
       "<table border=\"1\" class=\"dataframe\">\n",
       "  <thead>\n",
       "    <tr style=\"text-align: right;\">\n",
       "      <th></th>\n",
       "      <th>hotel_url</th>\n",
       "      <th>name</th>\n",
       "      <th>description</th>\n",
       "      <th>review</th>\n",
       "      <th>stars</th>\n",
       "      <th>coord_lat</th>\n",
       "      <th>coord_lon</th>\n",
       "    </tr>\n",
       "  </thead>\n",
       "  <tbody>\n",
       "    <tr>\n",
       "      <th>0</th>\n",
       "      <td>https://www.booking.com/hotel/fr/hotel-saint-a...</td>\n",
       "      <td>Le Saint Aubert</td>\n",
       "      <td>Niché dans un écrin de verdure, à seulement 2 ...</td>\n",
       "      <td>7,2</td>\n",
       "      <td>NaN</td>\n",
       "      <td>48.61293783</td>\n",
       "      <td>-1.51010513</td>\n",
       "    </tr>\n",
       "    <tr>\n",
       "      <th>1</th>\n",
       "      <td>https://www.booking.com/hotel/fr/la-vieille-au...</td>\n",
       "      <td>La Vieille Auberge</td>\n",
       "      <td>La Vieille Auberge vous accueille dans le vill...</td>\n",
       "      <td>7,4</td>\n",
       "      <td>NaN</td>\n",
       "      <td>48.63606300</td>\n",
       "      <td>-1.51145700</td>\n",
       "    </tr>\n",
       "    <tr>\n",
       "      <th>2</th>\n",
       "      <td>https://www.booking.com/hotel/fr/d-aleth.fr.html</td>\n",
       "      <td>Hotel d'Aleth</td>\n",
       "      <td>Situé en face du port des Bas Sablons, l'Hotel...</td>\n",
       "      <td>7,8</td>\n",
       "      <td>NaN</td>\n",
       "      <td>48.63593081</td>\n",
       "      <td>-2.02171236</td>\n",
       "    </tr>\n",
       "    <tr>\n",
       "      <th>3</th>\n",
       "      <td>https://www.booking.com/hotel/fr/hotel-gabriel...</td>\n",
       "      <td>Hotel Gabriel</td>\n",
       "      <td>L’Hotel Gabriel vous accueille à 1,6 km du Mon...</td>\n",
       "      <td>8,0</td>\n",
       "      <td>NaN</td>\n",
       "      <td>48.61538141</td>\n",
       "      <td>-1.51070997</td>\n",
       "    </tr>\n",
       "    <tr>\n",
       "      <th>4</th>\n",
       "      <td>https://www.booking.com/hotel/fr/chambre-priva...</td>\n",
       "      <td>B&amp;B de la roseraie</td>\n",
       "      <td>Situé à Bayeux, à seulement 1,8 km de la cathé...</td>\n",
       "      <td>8,8</td>\n",
       "      <td>3.0</td>\n",
       "      <td>49.29158754</td>\n",
       "      <td>-0.70337099</td>\n",
       "    </tr>\n",
       "  </tbody>\n",
       "</table>\n",
       "</div>"
      ],
      "text/plain": [
       "                                           hotel_url                name  \\\n",
       "0  https://www.booking.com/hotel/fr/hotel-saint-a...     Le Saint Aubert   \n",
       "1  https://www.booking.com/hotel/fr/la-vieille-au...  La Vieille Auberge   \n",
       "2   https://www.booking.com/hotel/fr/d-aleth.fr.html       Hotel d'Aleth   \n",
       "3  https://www.booking.com/hotel/fr/hotel-gabriel...       Hotel Gabriel   \n",
       "4  https://www.booking.com/hotel/fr/chambre-priva...  B&B de la roseraie   \n",
       "\n",
       "                                         description review  stars  \\\n",
       "0  Niché dans un écrin de verdure, à seulement 2 ...    7,2    NaN   \n",
       "1  La Vieille Auberge vous accueille dans le vill...    7,4    NaN   \n",
       "2  Situé en face du port des Bas Sablons, l'Hotel...    7,8    NaN   \n",
       "3  L’Hotel Gabriel vous accueille à 1,6 km du Mon...    8,0    NaN   \n",
       "4  Situé à Bayeux, à seulement 1,8 km de la cathé...    8,8    3.0   \n",
       "\n",
       "     coord_lat    coord_lon  \n",
       "0  48.61293783  -1.51010513  \n",
       "1  48.63606300  -1.51145700  \n",
       "2  48.63593081  -2.02171236  \n",
       "3  48.61538141  -1.51070997  \n",
       "4  49.29158754  -0.70337099  "
      ]
     },
     "execution_count": 46,
     "metadata": {},
     "output_type": "execute_result"
    }
   ],
   "source": [
    "hotel_infos = hotel_infos.drop('coord', axis=1)\n",
    "hotel_infos.head()"
   ]
  },
  {
   "cell_type": "code",
   "execution_count": 47,
   "metadata": {},
   "outputs": [
    {
     "data": {
      "text/html": [
       "<div>\n",
       "<style scoped>\n",
       "    .dataframe tbody tr th:only-of-type {\n",
       "        vertical-align: middle;\n",
       "    }\n",
       "\n",
       "    .dataframe tbody tr th {\n",
       "        vertical-align: top;\n",
       "    }\n",
       "\n",
       "    .dataframe thead th {\n",
       "        text-align: right;\n",
       "    }\n",
       "</style>\n",
       "<table border=\"1\" class=\"dataframe\">\n",
       "  <thead>\n",
       "    <tr style=\"text-align: right;\">\n",
       "      <th></th>\n",
       "      <th>hotel_url</th>\n",
       "      <th>name</th>\n",
       "      <th>description</th>\n",
       "      <th>review</th>\n",
       "      <th>stars</th>\n",
       "      <th>coord_lat</th>\n",
       "      <th>coord_lon</th>\n",
       "    </tr>\n",
       "  </thead>\n",
       "  <tbody>\n",
       "    <tr>\n",
       "      <th>67</th>\n",
       "      <td>https://www.booking.com/hotel/fr/au-duplex-d-o...</td>\n",
       "      <td>Au Duplex d'Or Centre Historique</td>\n",
       "      <td>Situé à Besançon, à 1,2 km de la gare de Besan...</td>\n",
       "      <td>9,9</td>\n",
       "      <td>3.0</td>\n",
       "      <td>47.23366436</td>\n",
       "      <td>6.02914890</td>\n",
       "    </tr>\n",
       "    <tr>\n",
       "      <th>231</th>\n",
       "      <td>https://www.booking.com/hotel/fr/harmony-3.fr....</td>\n",
       "      <td>Appartement situation exceptionnelle HARMONY III</td>\n",
       "      <td>Récemment rénové, l'Appartement situation exce...</td>\n",
       "      <td>9,9</td>\n",
       "      <td>3.0</td>\n",
       "      <td>43.21181391</td>\n",
       "      <td>2.35220498</td>\n",
       "    </tr>\n",
       "    <tr>\n",
       "      <th>264</th>\n",
       "      <td>https://www.booking.com/hotel/fr/au-coeur-des-...</td>\n",
       "      <td>Au Cœur des Remparts</td>\n",
       "      <td>Situé à Aigues-Mortes, à 24 km du parc des exp...</td>\n",
       "      <td>9,9</td>\n",
       "      <td>NaN</td>\n",
       "      <td>43.56540100</td>\n",
       "      <td>4.19297300</td>\n",
       "    </tr>\n",
       "    <tr>\n",
       "      <th>110</th>\n",
       "      <td>https://www.booking.com/hotel/fr/studio-cosy-c...</td>\n",
       "      <td>Studio cosy centre-ville/mer</td>\n",
       "      <td>Le Studio cosy centre-ville/mer est situé dans...</td>\n",
       "      <td>9,8</td>\n",
       "      <td>3.0</td>\n",
       "      <td>49.48593120</td>\n",
       "      <td>0.10640530</td>\n",
       "    </tr>\n",
       "    <tr>\n",
       "      <th>76</th>\n",
       "      <td>https://www.booking.com/hotel/fr/chambre-pin-u...</td>\n",
       "      <td>Chambre Pin Up Wings</td>\n",
       "      <td>Situé à Eguisheim, à 6,1 km de la Maison des T...</td>\n",
       "      <td>9,7</td>\n",
       "      <td>3.0</td>\n",
       "      <td>48.04242750</td>\n",
       "      <td>7.30813100</td>\n",
       "    </tr>\n",
       "    <tr>\n",
       "      <th>208</th>\n",
       "      <td>https://www.booking.com/hotel/fr/le-bijou-des-...</td>\n",
       "      <td>Le bijou des carmes - Haut de gamme climatisé</td>\n",
       "      <td>Situé à Toulouse, à 4,2 km du Zénith et à 7,1 ...</td>\n",
       "      <td>9,7</td>\n",
       "      <td>3.0</td>\n",
       "      <td>43.59483140</td>\n",
       "      <td>1.44631970</td>\n",
       "    </tr>\n",
       "    <tr>\n",
       "      <th>150</th>\n",
       "      <td>https://www.booking.com/hotel/fr/luxueux-appar...</td>\n",
       "      <td>Luxueux Appartement au 16 eme Arrondissement</td>\n",
       "      <td>Le Luxueux Appartement au 16 eme Arrondissemen...</td>\n",
       "      <td>9,7</td>\n",
       "      <td>4.0</td>\n",
       "      <td>48.83969710</td>\n",
       "      <td>2.26587190</td>\n",
       "    </tr>\n",
       "    <tr>\n",
       "      <th>280</th>\n",
       "      <td>https://www.booking.com/hotel/fr/lousoan.fr.html</td>\n",
       "      <td>Lousoan</td>\n",
       "      <td>Doté d'une piscine extérieure, d'un jardin et ...</td>\n",
       "      <td>9,7</td>\n",
       "      <td>3.0</td>\n",
       "      <td>43.54026065</td>\n",
       "      <td>5.43485774</td>\n",
       "    </tr>\n",
       "    <tr>\n",
       "      <th>300</th>\n",
       "      <td>https://www.booking.com/hotel/fr/la-petite-bas...</td>\n",
       "      <td>La petite Bastide</td>\n",
       "      <td>Dotée d'une terrasse et offrant une vue sur le...</td>\n",
       "      <td>9,7</td>\n",
       "      <td>NaN</td>\n",
       "      <td>43.21495100</td>\n",
       "      <td>5.54226110</td>\n",
       "    </tr>\n",
       "    <tr>\n",
       "      <th>237</th>\n",
       "      <td>https://www.booking.com/hotel/fr/charmant-t2-p...</td>\n",
       "      <td>Charmant T2 proche arènes</td>\n",
       "      <td>Situé à Nîmes, à 2,5 km du parc des exposition...</td>\n",
       "      <td>9,7</td>\n",
       "      <td>4.0</td>\n",
       "      <td>43.82996130</td>\n",
       "      <td>4.35509930</td>\n",
       "    </tr>\n",
       "    <tr>\n",
       "      <th>93</th>\n",
       "      <td>https://www.booking.com/hotel/fr/le-salzmann.f...</td>\n",
       "      <td>Le Salzmann</td>\n",
       "      <td>Le Salzmann est un appartement récemment rénov...</td>\n",
       "      <td>9,7</td>\n",
       "      <td>3.0</td>\n",
       "      <td>48.58108380</td>\n",
       "      <td>7.74515570</td>\n",
       "    </tr>\n",
       "    <tr>\n",
       "      <th>307</th>\n",
       "      <td>https://www.booking.com/hotel/fr/les-terrasses...</td>\n",
       "      <td>Les Terrasses de Lô</td>\n",
       "      <td>Doté d'une baignoire en plein air et offrant u...</td>\n",
       "      <td>9,6</td>\n",
       "      <td>3.0</td>\n",
       "      <td>43.14388500</td>\n",
       "      <td>6.35353600</td>\n",
       "    </tr>\n",
       "    <tr>\n",
       "      <th>184</th>\n",
       "      <td>https://www.booking.com/hotel/fr/demeure-de-la...</td>\n",
       "      <td>Demeure de la Carmine, sejour bien-etre d'exce...</td>\n",
       "      <td>Implantée à Mirepoix, en Midi-Pyrénées, la Dem...</td>\n",
       "      <td>9,6</td>\n",
       "      <td>4.0</td>\n",
       "      <td>43.08754039</td>\n",
       "      <td>1.87135531</td>\n",
       "    </tr>\n",
       "    <tr>\n",
       "      <th>45</th>\n",
       "      <td>https://www.booking.com/hotel/fr/cosy-t2-31m2-...</td>\n",
       "      <td>Cosy T2 31m2 - Centre-Ville Dijon - Gare et Darcy</td>\n",
       "      <td>Offrant une vue sur la ville, le Cosy T2 31m2 ...</td>\n",
       "      <td>9,6</td>\n",
       "      <td>3.0</td>\n",
       "      <td>47.32512360</td>\n",
       "      <td>5.02980680</td>\n",
       "    </tr>\n",
       "    <tr>\n",
       "      <th>311</th>\n",
       "      <td>https://www.booking.com/hotel/fr/joli-2-pieces...</td>\n",
       "      <td>Bel appartement classé 3 étoiles</td>\n",
       "      <td>Offrant une vue paisible sur la rue, le Bel ap...</td>\n",
       "      <td>9,6</td>\n",
       "      <td>NaN</td>\n",
       "      <td>43.14398290</td>\n",
       "      <td>6.33727200</td>\n",
       "    </tr>\n",
       "    <tr>\n",
       "      <th>250</th>\n",
       "      <td>https://www.booking.com/hotel/fr/le-grand-cerf...</td>\n",
       "      <td>Le Grand Cerf - 4 Couchages</td>\n",
       "      <td>Offrant une vue sur le jardin, Le Grand Cerf -...</td>\n",
       "      <td>9,6</td>\n",
       "      <td>3.0</td>\n",
       "      <td>42.90852426</td>\n",
       "      <td>1.72112612</td>\n",
       "    </tr>\n",
       "    <tr>\n",
       "      <th>319</th>\n",
       "      <td>https://www.booking.com/hotel/fr/l-39-ecrin-du...</td>\n",
       "      <td>L'Ecrin du Verdon</td>\n",
       "      <td>Situé à Allemagne-en-Provence, l’établissement...</td>\n",
       "      <td>9,6</td>\n",
       "      <td>4.0</td>\n",
       "      <td>43.78284031</td>\n",
       "      <td>6.00388477</td>\n",
       "    </tr>\n",
       "    <tr>\n",
       "      <th>86</th>\n",
       "      <td>https://www.booking.com/hotel/fr/le-chalet-des...</td>\n",
       "      <td>Le chalet des bois</td>\n",
       "      <td>Situé à Lalaye, en Alsace, Le chalet des bois ...</td>\n",
       "      <td>9,6</td>\n",
       "      <td>3.0</td>\n",
       "      <td>48.33368227</td>\n",
       "      <td>7.25640698</td>\n",
       "    </tr>\n",
       "    <tr>\n",
       "      <th>114</th>\n",
       "      <td>https://www.booking.com/hotel/fr/appart-lh-l-3...</td>\n",
       "      <td>Appart LH L'Estuaire - F2 vue mer proximité plage</td>\n",
       "      <td>Offrant une vue sur la mer, l'Appart LH L'Estu...</td>\n",
       "      <td>9,6</td>\n",
       "      <td>3.0</td>\n",
       "      <td>49.49934850</td>\n",
       "      <td>0.09505140</td>\n",
       "    </tr>\n",
       "    <tr>\n",
       "      <th>223</th>\n",
       "      <td>https://www.booking.com/hotel/fr/les-chambres-...</td>\n",
       "      <td>B&amp;B Les chambres d'Aimé</td>\n",
       "      <td>Doté d'une connexion Wi-Fi gratuite, l'établis...</td>\n",
       "      <td>9,5</td>\n",
       "      <td>4.0</td>\n",
       "      <td>43.21183000</td>\n",
       "      <td>2.34989530</td>\n",
       "    </tr>\n",
       "  </tbody>\n",
       "</table>\n",
       "</div>"
      ],
      "text/plain": [
       "                                             hotel_url  \\\n",
       "67   https://www.booking.com/hotel/fr/au-duplex-d-o...   \n",
       "231  https://www.booking.com/hotel/fr/harmony-3.fr....   \n",
       "264  https://www.booking.com/hotel/fr/au-coeur-des-...   \n",
       "110  https://www.booking.com/hotel/fr/studio-cosy-c...   \n",
       "76   https://www.booking.com/hotel/fr/chambre-pin-u...   \n",
       "208  https://www.booking.com/hotel/fr/le-bijou-des-...   \n",
       "150  https://www.booking.com/hotel/fr/luxueux-appar...   \n",
       "280   https://www.booking.com/hotel/fr/lousoan.fr.html   \n",
       "300  https://www.booking.com/hotel/fr/la-petite-bas...   \n",
       "237  https://www.booking.com/hotel/fr/charmant-t2-p...   \n",
       "93   https://www.booking.com/hotel/fr/le-salzmann.f...   \n",
       "307  https://www.booking.com/hotel/fr/les-terrasses...   \n",
       "184  https://www.booking.com/hotel/fr/demeure-de-la...   \n",
       "45   https://www.booking.com/hotel/fr/cosy-t2-31m2-...   \n",
       "311  https://www.booking.com/hotel/fr/joli-2-pieces...   \n",
       "250  https://www.booking.com/hotel/fr/le-grand-cerf...   \n",
       "319  https://www.booking.com/hotel/fr/l-39-ecrin-du...   \n",
       "86   https://www.booking.com/hotel/fr/le-chalet-des...   \n",
       "114  https://www.booking.com/hotel/fr/appart-lh-l-3...   \n",
       "223  https://www.booking.com/hotel/fr/les-chambres-...   \n",
       "\n",
       "                                                  name  \\\n",
       "67                    Au Duplex d'Or Centre Historique   \n",
       "231   Appartement situation exceptionnelle HARMONY III   \n",
       "264                               Au Cœur des Remparts   \n",
       "110                       Studio cosy centre-ville/mer   \n",
       "76                                Chambre Pin Up Wings   \n",
       "208      Le bijou des carmes - Haut de gamme climatisé   \n",
       "150       Luxueux Appartement au 16 eme Arrondissement   \n",
       "280                                            Lousoan   \n",
       "300                                  La petite Bastide   \n",
       "237                          Charmant T2 proche arènes   \n",
       "93                                         Le Salzmann   \n",
       "307                                Les Terrasses de Lô   \n",
       "184  Demeure de la Carmine, sejour bien-etre d'exce...   \n",
       "45   Cosy T2 31m2 - Centre-Ville Dijon - Gare et Darcy   \n",
       "311                   Bel appartement classé 3 étoiles   \n",
       "250                        Le Grand Cerf - 4 Couchages   \n",
       "319                                  L'Ecrin du Verdon   \n",
       "86                                  Le chalet des bois   \n",
       "114  Appart LH L'Estuaire - F2 vue mer proximité plage   \n",
       "223                            B&B Les chambres d'Aimé   \n",
       "\n",
       "                                           description review  stars  \\\n",
       "67   Situé à Besançon, à 1,2 km de la gare de Besan...    9,9    3.0   \n",
       "231  Récemment rénové, l'Appartement situation exce...    9,9    3.0   \n",
       "264  Situé à Aigues-Mortes, à 24 km du parc des exp...    9,9    NaN   \n",
       "110  Le Studio cosy centre-ville/mer est situé dans...    9,8    3.0   \n",
       "76   Situé à Eguisheim, à 6,1 km de la Maison des T...    9,7    3.0   \n",
       "208  Situé à Toulouse, à 4,2 km du Zénith et à 7,1 ...    9,7    3.0   \n",
       "150  Le Luxueux Appartement au 16 eme Arrondissemen...    9,7    4.0   \n",
       "280  Doté d'une piscine extérieure, d'un jardin et ...    9,7    3.0   \n",
       "300  Dotée d'une terrasse et offrant une vue sur le...    9,7    NaN   \n",
       "237  Situé à Nîmes, à 2,5 km du parc des exposition...    9,7    4.0   \n",
       "93   Le Salzmann est un appartement récemment rénov...    9,7    3.0   \n",
       "307  Doté d'une baignoire en plein air et offrant u...    9,6    3.0   \n",
       "184  Implantée à Mirepoix, en Midi-Pyrénées, la Dem...    9,6    4.0   \n",
       "45   Offrant une vue sur la ville, le Cosy T2 31m2 ...    9,6    3.0   \n",
       "311  Offrant une vue paisible sur la rue, le Bel ap...    9,6    NaN   \n",
       "250  Offrant une vue sur le jardin, Le Grand Cerf -...    9,6    3.0   \n",
       "319  Situé à Allemagne-en-Provence, l’établissement...    9,6    4.0   \n",
       "86   Situé à Lalaye, en Alsace, Le chalet des bois ...    9,6    3.0   \n",
       "114  Offrant une vue sur la mer, l'Appart LH L'Estu...    9,6    3.0   \n",
       "223  Doté d'une connexion Wi-Fi gratuite, l'établis...    9,5    4.0   \n",
       "\n",
       "       coord_lat   coord_lon  \n",
       "67   47.23366436  6.02914890  \n",
       "231  43.21181391  2.35220498  \n",
       "264  43.56540100  4.19297300  \n",
       "110  49.48593120  0.10640530  \n",
       "76   48.04242750  7.30813100  \n",
       "208  43.59483140  1.44631970  \n",
       "150  48.83969710  2.26587190  \n",
       "280  43.54026065  5.43485774  \n",
       "300  43.21495100  5.54226110  \n",
       "237  43.82996130  4.35509930  \n",
       "93   48.58108380  7.74515570  \n",
       "307  43.14388500  6.35353600  \n",
       "184  43.08754039  1.87135531  \n",
       "45   47.32512360  5.02980680  \n",
       "311  43.14398290  6.33727200  \n",
       "250  42.90852426  1.72112612  \n",
       "319  43.78284031  6.00388477  \n",
       "86   48.33368227  7.25640698  \n",
       "114  49.49934850  0.09505140  \n",
       "223  43.21183000  2.34989530  "
      ]
     },
     "execution_count": 47,
     "metadata": {},
     "output_type": "execute_result"
    }
   ],
   "source": [
    "hotel_infos_sorted = hotel_infos.sort_values(by='review', ascending=False)\n",
    "hotel_tops = hotel_infos_sorted.head(20)\n",
    "hotel_tops"
   ]
  },
  {
   "cell_type": "code",
   "execution_count": 48,
   "metadata": {},
   "outputs": [
    {
     "name": "stderr",
     "output_type": "stream",
     "text": [
      "C:\\Users\\pierr\\AppData\\Local\\Temp\\ipykernel_17664\\550454123.py:1: SettingWithCopyWarning: \n",
      "A value is trying to be set on a copy of a slice from a DataFrame.\n",
      "Try using .loc[row_indexer,col_indexer] = value instead\n",
      "\n",
      "See the caveats in the documentation: https://pandas.pydata.org/pandas-docs/stable/user_guide/indexing.html#returning-a-view-versus-a-copy\n",
      "  hotel_tops['coord_lat'] = hotel_tops['coord_lat'].apply(lambda x: float(x))\n",
      "C:\\Users\\pierr\\AppData\\Local\\Temp\\ipykernel_17664\\550454123.py:2: SettingWithCopyWarning: \n",
      "A value is trying to be set on a copy of a slice from a DataFrame.\n",
      "Try using .loc[row_indexer,col_indexer] = value instead\n",
      "\n",
      "See the caveats in the documentation: https://pandas.pydata.org/pandas-docs/stable/user_guide/indexing.html#returning-a-view-versus-a-copy\n",
      "  hotel_tops['coord_lon'] = hotel_tops['coord_lon'].apply(lambda x: float(x))\n"
     ]
    },
    {
     "data": {
      "text/html": [
       "<div>\n",
       "<style scoped>\n",
       "    .dataframe tbody tr th:only-of-type {\n",
       "        vertical-align: middle;\n",
       "    }\n",
       "\n",
       "    .dataframe tbody tr th {\n",
       "        vertical-align: top;\n",
       "    }\n",
       "\n",
       "    .dataframe thead th {\n",
       "        text-align: right;\n",
       "    }\n",
       "</style>\n",
       "<table border=\"1\" class=\"dataframe\">\n",
       "  <thead>\n",
       "    <tr style=\"text-align: right;\">\n",
       "      <th></th>\n",
       "      <th>hotel_url</th>\n",
       "      <th>name</th>\n",
       "      <th>description</th>\n",
       "      <th>review</th>\n",
       "      <th>stars</th>\n",
       "      <th>coord_lat</th>\n",
       "      <th>coord_lon</th>\n",
       "    </tr>\n",
       "  </thead>\n",
       "  <tbody>\n",
       "    <tr>\n",
       "      <th>67</th>\n",
       "      <td>https://www.booking.com/hotel/fr/au-duplex-d-o...</td>\n",
       "      <td>Au Duplex d'Or Centre Historique</td>\n",
       "      <td>Situé à Besançon, à 1,2 km de la gare de Besan...</td>\n",
       "      <td>9,9</td>\n",
       "      <td>3.0</td>\n",
       "      <td>47.233664</td>\n",
       "      <td>6.029149</td>\n",
       "    </tr>\n",
       "    <tr>\n",
       "      <th>231</th>\n",
       "      <td>https://www.booking.com/hotel/fr/harmony-3.fr....</td>\n",
       "      <td>Appartement situation exceptionnelle HARMONY III</td>\n",
       "      <td>Récemment rénové, l'Appartement situation exce...</td>\n",
       "      <td>9,9</td>\n",
       "      <td>3.0</td>\n",
       "      <td>43.211814</td>\n",
       "      <td>2.352205</td>\n",
       "    </tr>\n",
       "    <tr>\n",
       "      <th>264</th>\n",
       "      <td>https://www.booking.com/hotel/fr/au-coeur-des-...</td>\n",
       "      <td>Au Cœur des Remparts</td>\n",
       "      <td>Situé à Aigues-Mortes, à 24 km du parc des exp...</td>\n",
       "      <td>9,9</td>\n",
       "      <td>NaN</td>\n",
       "      <td>43.565401</td>\n",
       "      <td>4.192973</td>\n",
       "    </tr>\n",
       "    <tr>\n",
       "      <th>110</th>\n",
       "      <td>https://www.booking.com/hotel/fr/studio-cosy-c...</td>\n",
       "      <td>Studio cosy centre-ville/mer</td>\n",
       "      <td>Le Studio cosy centre-ville/mer est situé dans...</td>\n",
       "      <td>9,8</td>\n",
       "      <td>3.0</td>\n",
       "      <td>49.485931</td>\n",
       "      <td>0.106405</td>\n",
       "    </tr>\n",
       "    <tr>\n",
       "      <th>76</th>\n",
       "      <td>https://www.booking.com/hotel/fr/chambre-pin-u...</td>\n",
       "      <td>Chambre Pin Up Wings</td>\n",
       "      <td>Situé à Eguisheim, à 6,1 km de la Maison des T...</td>\n",
       "      <td>9,7</td>\n",
       "      <td>3.0</td>\n",
       "      <td>48.042428</td>\n",
       "      <td>7.308131</td>\n",
       "    </tr>\n",
       "  </tbody>\n",
       "</table>\n",
       "</div>"
      ],
      "text/plain": [
       "                                             hotel_url  \\\n",
       "67   https://www.booking.com/hotel/fr/au-duplex-d-o...   \n",
       "231  https://www.booking.com/hotel/fr/harmony-3.fr....   \n",
       "264  https://www.booking.com/hotel/fr/au-coeur-des-...   \n",
       "110  https://www.booking.com/hotel/fr/studio-cosy-c...   \n",
       "76   https://www.booking.com/hotel/fr/chambre-pin-u...   \n",
       "\n",
       "                                                 name  \\\n",
       "67                   Au Duplex d'Or Centre Historique   \n",
       "231  Appartement situation exceptionnelle HARMONY III   \n",
       "264                              Au Cœur des Remparts   \n",
       "110                      Studio cosy centre-ville/mer   \n",
       "76                               Chambre Pin Up Wings   \n",
       "\n",
       "                                           description review  stars  \\\n",
       "67   Situé à Besançon, à 1,2 km de la gare de Besan...    9,9    3.0   \n",
       "231  Récemment rénové, l'Appartement situation exce...    9,9    3.0   \n",
       "264  Situé à Aigues-Mortes, à 24 km du parc des exp...    9,9    NaN   \n",
       "110  Le Studio cosy centre-ville/mer est situé dans...    9,8    3.0   \n",
       "76   Situé à Eguisheim, à 6,1 km de la Maison des T...    9,7    3.0   \n",
       "\n",
       "     coord_lat  coord_lon  \n",
       "67   47.233664   6.029149  \n",
       "231  43.211814   2.352205  \n",
       "264  43.565401   4.192973  \n",
       "110  49.485931   0.106405  \n",
       "76   48.042428   7.308131  "
      ]
     },
     "execution_count": 48,
     "metadata": {},
     "output_type": "execute_result"
    }
   ],
   "source": [
    "hotel_tops['coord_lat'] = hotel_tops['coord_lat'].apply(lambda x: float(x))\n",
    "hotel_tops['coord_lon'] = hotel_tops['coord_lon'].apply(lambda x: float(x))\n",
    "hotel_tops.head()"
   ]
  },
  {
   "cell_type": "code",
   "execution_count": 49,
   "metadata": {},
   "outputs": [
    {
     "data": {
      "text/html": [
       "<div>\n",
       "<style scoped>\n",
       "    .dataframe tbody tr th:only-of-type {\n",
       "        vertical-align: middle;\n",
       "    }\n",
       "\n",
       "    .dataframe tbody tr th {\n",
       "        vertical-align: top;\n",
       "    }\n",
       "\n",
       "    .dataframe thead th {\n",
       "        text-align: right;\n",
       "    }\n",
       "</style>\n",
       "<table border=\"1\" class=\"dataframe\">\n",
       "  <thead>\n",
       "    <tr style=\"text-align: right;\">\n",
       "      <th></th>\n",
       "      <th>hotel_url</th>\n",
       "      <th>name</th>\n",
       "      <th>description</th>\n",
       "      <th>review</th>\n",
       "      <th>stars</th>\n",
       "      <th>coord_lat</th>\n",
       "      <th>coord_lon</th>\n",
       "    </tr>\n",
       "  </thead>\n",
       "  <tbody>\n",
       "    <tr>\n",
       "      <th>count</th>\n",
       "      <td>20</td>\n",
       "      <td>20</td>\n",
       "      <td>20</td>\n",
       "      <td>20</td>\n",
       "      <td>17.000000</td>\n",
       "      <td>20.000000</td>\n",
       "      <td>20.000000</td>\n",
       "    </tr>\n",
       "    <tr>\n",
       "      <th>unique</th>\n",
       "      <td>20</td>\n",
       "      <td>20</td>\n",
       "      <td>20</td>\n",
       "      <td>5</td>\n",
       "      <td>NaN</td>\n",
       "      <td>NaN</td>\n",
       "      <td>NaN</td>\n",
       "    </tr>\n",
       "    <tr>\n",
       "      <th>top</th>\n",
       "      <td>https://www.booking.com/hotel/fr/au-duplex-d-o...</td>\n",
       "      <td>Au Duplex d'Or Centre Historique</td>\n",
       "      <td>Situé à Besançon, à 1,2 km de la gare de Besan...</td>\n",
       "      <td>9,6</td>\n",
       "      <td>NaN</td>\n",
       "      <td>NaN</td>\n",
       "      <td>NaN</td>\n",
       "    </tr>\n",
       "    <tr>\n",
       "      <th>freq</th>\n",
       "      <td>1</td>\n",
       "      <td>1</td>\n",
       "      <td>1</td>\n",
       "      <td>8</td>\n",
       "      <td>NaN</td>\n",
       "      <td>NaN</td>\n",
       "      <td>NaN</td>\n",
       "    </tr>\n",
       "    <tr>\n",
       "      <th>mean</th>\n",
       "      <td>NaN</td>\n",
       "      <td>NaN</td>\n",
       "      <td>NaN</td>\n",
       "      <td>NaN</td>\n",
       "      <td>3.294118</td>\n",
       "      <td>45.378839</td>\n",
       "      <td>4.189838</td>\n",
       "    </tr>\n",
       "    <tr>\n",
       "      <th>std</th>\n",
       "      <td>NaN</td>\n",
       "      <td>NaN</td>\n",
       "      <td>NaN</td>\n",
       "      <td>NaN</td>\n",
       "      <td>0.469668</td>\n",
       "      <td>2.609166</td>\n",
       "      <td>2.457525</td>\n",
       "    </tr>\n",
       "    <tr>\n",
       "      <th>min</th>\n",
       "      <td>NaN</td>\n",
       "      <td>NaN</td>\n",
       "      <td>NaN</td>\n",
       "      <td>NaN</td>\n",
       "      <td>3.000000</td>\n",
       "      <td>42.908524</td>\n",
       "      <td>0.095051</td>\n",
       "    </tr>\n",
       "    <tr>\n",
       "      <th>25%</th>\n",
       "      <td>NaN</td>\n",
       "      <td>NaN</td>\n",
       "      <td>NaN</td>\n",
       "      <td>NaN</td>\n",
       "      <td>3.000000</td>\n",
       "      <td>43.211826</td>\n",
       "      <td>2.167243</td>\n",
       "    </tr>\n",
       "    <tr>\n",
       "      <th>50%</th>\n",
       "      <td>NaN</td>\n",
       "      <td>NaN</td>\n",
       "      <td>NaN</td>\n",
       "      <td>NaN</td>\n",
       "      <td>3.000000</td>\n",
       "      <td>43.688836</td>\n",
       "      <td>4.692453</td>\n",
       "    </tr>\n",
       "    <tr>\n",
       "      <th>75%</th>\n",
       "      <td>NaN</td>\n",
       "      <td>NaN</td>\n",
       "      <td>NaN</td>\n",
       "      <td>NaN</td>\n",
       "      <td>4.000000</td>\n",
       "      <td>48.115241</td>\n",
       "      <td>6.106180</td>\n",
       "    </tr>\n",
       "    <tr>\n",
       "      <th>max</th>\n",
       "      <td>NaN</td>\n",
       "      <td>NaN</td>\n",
       "      <td>NaN</td>\n",
       "      <td>NaN</td>\n",
       "      <td>4.000000</td>\n",
       "      <td>49.499349</td>\n",
       "      <td>7.745156</td>\n",
       "    </tr>\n",
       "  </tbody>\n",
       "</table>\n",
       "</div>"
      ],
      "text/plain": [
       "                                                hotel_url  \\\n",
       "count                                                  20   \n",
       "unique                                                 20   \n",
       "top     https://www.booking.com/hotel/fr/au-duplex-d-o...   \n",
       "freq                                                    1   \n",
       "mean                                                  NaN   \n",
       "std                                                   NaN   \n",
       "min                                                   NaN   \n",
       "25%                                                   NaN   \n",
       "50%                                                   NaN   \n",
       "75%                                                   NaN   \n",
       "max                                                   NaN   \n",
       "\n",
       "                                    name  \\\n",
       "count                                 20   \n",
       "unique                                20   \n",
       "top     Au Duplex d'Or Centre Historique   \n",
       "freq                                   1   \n",
       "mean                                 NaN   \n",
       "std                                  NaN   \n",
       "min                                  NaN   \n",
       "25%                                  NaN   \n",
       "50%                                  NaN   \n",
       "75%                                  NaN   \n",
       "max                                  NaN   \n",
       "\n",
       "                                              description review      stars  \\\n",
       "count                                                  20     20  17.000000   \n",
       "unique                                                 20      5        NaN   \n",
       "top     Situé à Besançon, à 1,2 km de la gare de Besan...    9,6        NaN   \n",
       "freq                                                    1      8        NaN   \n",
       "mean                                                  NaN    NaN   3.294118   \n",
       "std                                                   NaN    NaN   0.469668   \n",
       "min                                                   NaN    NaN   3.000000   \n",
       "25%                                                   NaN    NaN   3.000000   \n",
       "50%                                                   NaN    NaN   3.000000   \n",
       "75%                                                   NaN    NaN   4.000000   \n",
       "max                                                   NaN    NaN   4.000000   \n",
       "\n",
       "        coord_lat  coord_lon  \n",
       "count   20.000000  20.000000  \n",
       "unique        NaN        NaN  \n",
       "top           NaN        NaN  \n",
       "freq          NaN        NaN  \n",
       "mean    45.378839   4.189838  \n",
       "std      2.609166   2.457525  \n",
       "min     42.908524   0.095051  \n",
       "25%     43.211826   2.167243  \n",
       "50%     43.688836   4.692453  \n",
       "75%     48.115241   6.106180  \n",
       "max     49.499349   7.745156  "
      ]
     },
     "execution_count": 49,
     "metadata": {},
     "output_type": "execute_result"
    }
   ],
   "source": [
    "hotel_tops.describe(include='all')"
   ]
  },
  {
   "cell_type": "code",
   "execution_count": 50,
   "metadata": {},
   "outputs": [
    {
     "data": {
      "text/html": [
       "<div>\n",
       "<style scoped>\n",
       "    .dataframe tbody tr th:only-of-type {\n",
       "        vertical-align: middle;\n",
       "    }\n",
       "\n",
       "    .dataframe tbody tr th {\n",
       "        vertical-align: top;\n",
       "    }\n",
       "\n",
       "    .dataframe thead th {\n",
       "        text-align: right;\n",
       "    }\n",
       "</style>\n",
       "<table border=\"1\" class=\"dataframe\">\n",
       "  <thead>\n",
       "    <tr style=\"text-align: right;\">\n",
       "      <th></th>\n",
       "      <th>hotel_url</th>\n",
       "      <th>name</th>\n",
       "      <th>description</th>\n",
       "      <th>review</th>\n",
       "      <th>stars</th>\n",
       "      <th>coord_lat</th>\n",
       "      <th>coord_lon</th>\n",
       "    </tr>\n",
       "  </thead>\n",
       "  <tbody>\n",
       "    <tr>\n",
       "      <th>0</th>\n",
       "      <td>https://www.booking.com/hotel/fr/hotel-saint-a...</td>\n",
       "      <td>Le Saint Aubert</td>\n",
       "      <td>Niché dans un écrin de verdure, à seulement 2 ...</td>\n",
       "      <td>7,2</td>\n",
       "      <td>NaN</td>\n",
       "      <td>48.61293783</td>\n",
       "      <td>-1.51010513</td>\n",
       "    </tr>\n",
       "    <tr>\n",
       "      <th>1</th>\n",
       "      <td>https://www.booking.com/hotel/fr/la-vieille-au...</td>\n",
       "      <td>La Vieille Auberge</td>\n",
       "      <td>La Vieille Auberge vous accueille dans le vill...</td>\n",
       "      <td>7,4</td>\n",
       "      <td>NaN</td>\n",
       "      <td>48.63606300</td>\n",
       "      <td>-1.51145700</td>\n",
       "    </tr>\n",
       "    <tr>\n",
       "      <th>2</th>\n",
       "      <td>https://www.booking.com/hotel/fr/d-aleth.fr.html</td>\n",
       "      <td>Hotel d'Aleth</td>\n",
       "      <td>Situé en face du port des Bas Sablons, l'Hotel...</td>\n",
       "      <td>7,8</td>\n",
       "      <td>NaN</td>\n",
       "      <td>48.63593081</td>\n",
       "      <td>-2.02171236</td>\n",
       "    </tr>\n",
       "    <tr>\n",
       "      <th>3</th>\n",
       "      <td>https://www.booking.com/hotel/fr/hotel-gabriel...</td>\n",
       "      <td>Hotel Gabriel</td>\n",
       "      <td>L'Hotel Gabriel vous accueille à 1,6 km du Mon...</td>\n",
       "      <td>8,0</td>\n",
       "      <td>NaN</td>\n",
       "      <td>48.61538141</td>\n",
       "      <td>-1.51070997</td>\n",
       "    </tr>\n",
       "    <tr>\n",
       "      <th>4</th>\n",
       "      <td>https://www.booking.com/hotel/fr/chambre-priva...</td>\n",
       "      <td>B&amp;B de la roseraie</td>\n",
       "      <td>Situé à Bayeux, à seulement 1,8 km de la cathé...</td>\n",
       "      <td>8,8</td>\n",
       "      <td>3.0</td>\n",
       "      <td>49.29158754</td>\n",
       "      <td>-0.70337099</td>\n",
       "    </tr>\n",
       "    <tr>\n",
       "      <th>...</th>\n",
       "      <td>...</td>\n",
       "      <td>...</td>\n",
       "      <td>...</td>\n",
       "      <td>...</td>\n",
       "      <td>...</td>\n",
       "      <td>...</td>\n",
       "      <td>...</td>\n",
       "    </tr>\n",
       "    <tr>\n",
       "      <th>345</th>\n",
       "      <td>https://www.booking.com/hotel/fr/parc-709-bayo...</td>\n",
       "      <td>Parc 709 Bayonne</td>\n",
       "      <td>Offrant une vue sur la rue calme, le Parc 709 ...</td>\n",
       "      <td>9,3</td>\n",
       "      <td>NaN</td>\n",
       "      <td>43.49560600</td>\n",
       "      <td>-1.48131700</td>\n",
       "    </tr>\n",
       "    <tr>\n",
       "      <th>346</th>\n",
       "      <td>https://www.booking.com/hotel/fr/le-grand-larg...</td>\n",
       "      <td>Résidence Vacances Bleues Le Grand Large</td>\n",
       "      <td>Offrant une vue panoramique sur la plage de la...</td>\n",
       "      <td>8,2</td>\n",
       "      <td>NaN</td>\n",
       "      <td>43.48065123</td>\n",
       "      <td>-1.56534523</td>\n",
       "    </tr>\n",
       "    <tr>\n",
       "      <th>347</th>\n",
       "      <td>https://www.booking.com/hotel/fr/3-pieces-lumi...</td>\n",
       "      <td>3 pièces lumineux avec terrasse au Port-Vieux</td>\n",
       "      <td>Situé en plein centre de Biarritz, le 3 pièces...</td>\n",
       "      <td>10</td>\n",
       "      <td>4.0</td>\n",
       "      <td>43.48180370</td>\n",
       "      <td>-1.56508000</td>\n",
       "    </tr>\n",
       "    <tr>\n",
       "      <th>348</th>\n",
       "      <td>https://www.booking.com/hotel/fr/rivage-yourho...</td>\n",
       "      <td>Rivage YourHostHelper</td>\n",
       "      <td>Situé à 500 mètres de la Grande Plage, à 600 m...</td>\n",
       "      <td>10</td>\n",
       "      <td>3.0</td>\n",
       "      <td>43.48913100</td>\n",
       "      <td>-1.55228730</td>\n",
       "    </tr>\n",
       "    <tr>\n",
       "      <th>349</th>\n",
       "      <td>https://www.booking.com/hotel/fr/canopee-biarr...</td>\n",
       "      <td>Canopée Biarritz centre plage</td>\n",
       "      <td>In the Biarritz City Centre district of Biarri...</td>\n",
       "      <td>None</td>\n",
       "      <td>NaN</td>\n",
       "      <td>43.48068790</td>\n",
       "      <td>-1.55755140</td>\n",
       "    </tr>\n",
       "  </tbody>\n",
       "</table>\n",
       "<p>350 rows × 7 columns</p>\n",
       "</div>"
      ],
      "text/plain": [
       "                                             hotel_url  \\\n",
       "0    https://www.booking.com/hotel/fr/hotel-saint-a...   \n",
       "1    https://www.booking.com/hotel/fr/la-vieille-au...   \n",
       "2     https://www.booking.com/hotel/fr/d-aleth.fr.html   \n",
       "3    https://www.booking.com/hotel/fr/hotel-gabriel...   \n",
       "4    https://www.booking.com/hotel/fr/chambre-priva...   \n",
       "..                                                 ...   \n",
       "345  https://www.booking.com/hotel/fr/parc-709-bayo...   \n",
       "346  https://www.booking.com/hotel/fr/le-grand-larg...   \n",
       "347  https://www.booking.com/hotel/fr/3-pieces-lumi...   \n",
       "348  https://www.booking.com/hotel/fr/rivage-yourho...   \n",
       "349  https://www.booking.com/hotel/fr/canopee-biarr...   \n",
       "\n",
       "                                              name  \\\n",
       "0                                  Le Saint Aubert   \n",
       "1                               La Vieille Auberge   \n",
       "2                                    Hotel d'Aleth   \n",
       "3                                    Hotel Gabriel   \n",
       "4                               B&B de la roseraie   \n",
       "..                                             ...   \n",
       "345                               Parc 709 Bayonne   \n",
       "346       Résidence Vacances Bleues Le Grand Large   \n",
       "347  3 pièces lumineux avec terrasse au Port-Vieux   \n",
       "348                          Rivage YourHostHelper   \n",
       "349                  Canopée Biarritz centre plage   \n",
       "\n",
       "                                           description review  stars  \\\n",
       "0    Niché dans un écrin de verdure, à seulement 2 ...    7,2    NaN   \n",
       "1    La Vieille Auberge vous accueille dans le vill...    7,4    NaN   \n",
       "2    Situé en face du port des Bas Sablons, l'Hotel...    7,8    NaN   \n",
       "3    L'Hotel Gabriel vous accueille à 1,6 km du Mon...    8,0    NaN   \n",
       "4    Situé à Bayeux, à seulement 1,8 km de la cathé...    8,8    3.0   \n",
       "..                                                 ...    ...    ...   \n",
       "345  Offrant une vue sur la rue calme, le Parc 709 ...    9,3    NaN   \n",
       "346  Offrant une vue panoramique sur la plage de la...    8,2    NaN   \n",
       "347  Situé en plein centre de Biarritz, le 3 pièces...     10    4.0   \n",
       "348  Situé à 500 mètres de la Grande Plage, à 600 m...     10    3.0   \n",
       "349  In the Biarritz City Centre district of Biarri...   None    NaN   \n",
       "\n",
       "       coord_lat    coord_lon  \n",
       "0    48.61293783  -1.51010513  \n",
       "1    48.63606300  -1.51145700  \n",
       "2    48.63593081  -2.02171236  \n",
       "3    48.61538141  -1.51070997  \n",
       "4    49.29158754  -0.70337099  \n",
       "..           ...          ...  \n",
       "345  43.49560600  -1.48131700  \n",
       "346  43.48065123  -1.56534523  \n",
       "347  43.48180370  -1.56508000  \n",
       "348  43.48913100  -1.55228730  \n",
       "349  43.48068790  -1.55755140  \n",
       "\n",
       "[350 rows x 7 columns]"
      ]
     },
     "execution_count": 50,
     "metadata": {},
     "output_type": "execute_result"
    }
   ],
   "source": [
    "# On enlève les sauts de ligne\n",
    "# et on enlève les caractères spéciaux gênants (oe)\n",
    "hotel_infos = hotel_infos.replace(r'\\n',' ', regex=True)\n",
    "hotel_infos = hotel_infos.replace({chr(0x0153): 'oe',\n",
    "                                   chr(0x2013): '-',\n",
    "                                   chr(0x2019): '\\'',\n",
    "                                   chr(0x2022): '-'}, regex=True)\n",
    "\n",
    "hotel_infos"
   ]
  },
  {
   "cell_type": "code",
   "execution_count": 3,
   "metadata": {},
   "outputs": [
    {
     "data": {
      "text/html": [
       "<div>\n",
       "<style scoped>\n",
       "    .dataframe tbody tr th:only-of-type {\n",
       "        vertical-align: middle;\n",
       "    }\n",
       "\n",
       "    .dataframe tbody tr th {\n",
       "        vertical-align: top;\n",
       "    }\n",
       "\n",
       "    .dataframe thead th {\n",
       "        text-align: right;\n",
       "    }\n",
       "</style>\n",
       "<table border=\"1\" class=\"dataframe\">\n",
       "  <thead>\n",
       "    <tr style=\"text-align: right;\">\n",
       "      <th></th>\n",
       "      <th>Unnamed: 0</th>\n",
       "      <th>hotel_url</th>\n",
       "      <th>name</th>\n",
       "      <th>description</th>\n",
       "      <th>review</th>\n",
       "      <th>stars</th>\n",
       "      <th>coord_lat</th>\n",
       "      <th>coord_lon</th>\n",
       "    </tr>\n",
       "  </thead>\n",
       "  <tbody>\n",
       "    <tr>\n",
       "      <th>0</th>\n",
       "      <td>0</td>\n",
       "      <td>https://www.booking.com/hotel/fr/hotel-saint-a...</td>\n",
       "      <td>Le Saint Aubert</td>\n",
       "      <td>Niché dans un écrin de verdure, à seulement 2 ...</td>\n",
       "      <td>7.2</td>\n",
       "      <td>NaN</td>\n",
       "      <td>48.612938</td>\n",
       "      <td>-1.510105</td>\n",
       "    </tr>\n",
       "    <tr>\n",
       "      <th>1</th>\n",
       "      <td>1</td>\n",
       "      <td>https://www.booking.com/hotel/fr/la-vieille-au...</td>\n",
       "      <td>La Vieille Auberge</td>\n",
       "      <td>La Vieille Auberge vous accueille dans le vill...</td>\n",
       "      <td>7.4</td>\n",
       "      <td>NaN</td>\n",
       "      <td>48.636063</td>\n",
       "      <td>-1.511457</td>\n",
       "    </tr>\n",
       "    <tr>\n",
       "      <th>2</th>\n",
       "      <td>2</td>\n",
       "      <td>https://www.booking.com/hotel/fr/d-aleth.fr.html</td>\n",
       "      <td>Hotel d'Aleth</td>\n",
       "      <td>Situé en face du port des Bas Sablons, l'Hotel...</td>\n",
       "      <td>7.8</td>\n",
       "      <td>NaN</td>\n",
       "      <td>48.635931</td>\n",
       "      <td>-2.021712</td>\n",
       "    </tr>\n",
       "    <tr>\n",
       "      <th>3</th>\n",
       "      <td>3</td>\n",
       "      <td>https://www.booking.com/hotel/fr/hotel-gabriel...</td>\n",
       "      <td>Hotel Gabriel</td>\n",
       "      <td>L'Hotel Gabriel vous accueille à 1,6 km du Mon...</td>\n",
       "      <td>8.0</td>\n",
       "      <td>NaN</td>\n",
       "      <td>48.615381</td>\n",
       "      <td>-1.510710</td>\n",
       "    </tr>\n",
       "    <tr>\n",
       "      <th>4</th>\n",
       "      <td>4</td>\n",
       "      <td>https://www.booking.com/hotel/fr/chambre-priva...</td>\n",
       "      <td>B&amp;B de la roseraie</td>\n",
       "      <td>Situé à Bayeux, à seulement 1,8 km de la cathé...</td>\n",
       "      <td>8.8</td>\n",
       "      <td>3.0</td>\n",
       "      <td>49.291588</td>\n",
       "      <td>-0.703371</td>\n",
       "    </tr>\n",
       "  </tbody>\n",
       "</table>\n",
       "</div>"
      ],
      "text/plain": [
       "   Unnamed: 0                                          hotel_url  \\\n",
       "0           0  https://www.booking.com/hotel/fr/hotel-saint-a...   \n",
       "1           1  https://www.booking.com/hotel/fr/la-vieille-au...   \n",
       "2           2   https://www.booking.com/hotel/fr/d-aleth.fr.html   \n",
       "3           3  https://www.booking.com/hotel/fr/hotel-gabriel...   \n",
       "4           4  https://www.booking.com/hotel/fr/chambre-priva...   \n",
       "\n",
       "                 name                                        description  \\\n",
       "0     Le Saint Aubert  Niché dans un écrin de verdure, à seulement 2 ...   \n",
       "1  La Vieille Auberge  La Vieille Auberge vous accueille dans le vill...   \n",
       "2       Hotel d'Aleth  Situé en face du port des Bas Sablons, l'Hotel...   \n",
       "3       Hotel Gabriel  L'Hotel Gabriel vous accueille à 1,6 km du Mon...   \n",
       "4  B&B de la roseraie  Situé à Bayeux, à seulement 1,8 km de la cathé...   \n",
       "\n",
       "   review  stars  coord_lat  coord_lon  \n",
       "0     7.2    NaN  48.612938  -1.510105  \n",
       "1     7.4    NaN  48.636063  -1.511457  \n",
       "2     7.8    NaN  48.635931  -2.021712  \n",
       "3     8.0    NaN  48.615381  -1.510710  \n",
       "4     8.8    3.0  49.291588  -0.703371  "
      ]
     },
     "execution_count": 3,
     "metadata": {},
     "output_type": "execute_result"
    }
   ],
   "source": [
    "hotel_infos['review'] = hotel_infos['review'].apply(\n",
    "    lambda x: float(str(x).replace(',', '.').replace('\"', '')) if pd.notnull(x) else x\n",
    ")\n",
    "hotel_infos.head()"
   ]
  },
  {
   "cell_type": "code",
   "execution_count": 9,
   "metadata": {},
   "outputs": [],
   "source": [
    "hotel_infos = hotel_infos.drop(columns=['Unnamed: 0'])"
   ]
  },
  {
   "cell_type": "code",
   "execution_count": 10,
   "metadata": {},
   "outputs": [
    {
     "data": {
      "text/html": [
       "<div>\n",
       "<style scoped>\n",
       "    .dataframe tbody tr th:only-of-type {\n",
       "        vertical-align: middle;\n",
       "    }\n",
       "\n",
       "    .dataframe tbody tr th {\n",
       "        vertical-align: top;\n",
       "    }\n",
       "\n",
       "    .dataframe thead th {\n",
       "        text-align: right;\n",
       "    }\n",
       "</style>\n",
       "<table border=\"1\" class=\"dataframe\">\n",
       "  <thead>\n",
       "    <tr style=\"text-align: right;\">\n",
       "      <th></th>\n",
       "      <th>hotel_url</th>\n",
       "      <th>name</th>\n",
       "      <th>description</th>\n",
       "      <th>review</th>\n",
       "      <th>stars</th>\n",
       "      <th>coord_lat</th>\n",
       "      <th>coord_lon</th>\n",
       "    </tr>\n",
       "  </thead>\n",
       "  <tbody>\n",
       "    <tr>\n",
       "      <th>count</th>\n",
       "      <td>350</td>\n",
       "      <td>350</td>\n",
       "      <td>350</td>\n",
       "      <td>327.000000</td>\n",
       "      <td>199.000000</td>\n",
       "      <td>350.000000</td>\n",
       "      <td>350.000000</td>\n",
       "    </tr>\n",
       "    <tr>\n",
       "      <th>unique</th>\n",
       "      <td>350</td>\n",
       "      <td>350</td>\n",
       "      <td>350</td>\n",
       "      <td>NaN</td>\n",
       "      <td>NaN</td>\n",
       "      <td>NaN</td>\n",
       "      <td>NaN</td>\n",
       "    </tr>\n",
       "    <tr>\n",
       "      <th>top</th>\n",
       "      <td>https://www.booking.com/hotel/fr/hotel-saint-a...</td>\n",
       "      <td>Le Saint Aubert</td>\n",
       "      <td>Niché dans un écrin de verdure, à seulement 2 ...</td>\n",
       "      <td>NaN</td>\n",
       "      <td>NaN</td>\n",
       "      <td>NaN</td>\n",
       "      <td>NaN</td>\n",
       "    </tr>\n",
       "    <tr>\n",
       "      <th>freq</th>\n",
       "      <td>1</td>\n",
       "      <td>1</td>\n",
       "      <td>1</td>\n",
       "      <td>NaN</td>\n",
       "      <td>NaN</td>\n",
       "      <td>NaN</td>\n",
       "      <td>NaN</td>\n",
       "    </tr>\n",
       "    <tr>\n",
       "      <th>mean</th>\n",
       "      <td>NaN</td>\n",
       "      <td>NaN</td>\n",
       "      <td>NaN</td>\n",
       "      <td>8.716820</td>\n",
       "      <td>3.090452</td>\n",
       "      <td>45.839891</td>\n",
       "      <td>3.394217</td>\n",
       "    </tr>\n",
       "    <tr>\n",
       "      <th>std</th>\n",
       "      <td>NaN</td>\n",
       "      <td>NaN</td>\n",
       "      <td>NaN</td>\n",
       "      <td>0.755344</td>\n",
       "      <td>0.287552</td>\n",
       "      <td>2.557849</td>\n",
       "      <td>2.903271</td>\n",
       "    </tr>\n",
       "    <tr>\n",
       "      <th>min</th>\n",
       "      <td>NaN</td>\n",
       "      <td>NaN</td>\n",
       "      <td>NaN</td>\n",
       "      <td>5.900000</td>\n",
       "      <td>3.000000</td>\n",
       "      <td>42.520945</td>\n",
       "      <td>-2.025282</td>\n",
       "    </tr>\n",
       "    <tr>\n",
       "      <th>25%</th>\n",
       "      <td>NaN</td>\n",
       "      <td>NaN</td>\n",
       "      <td>NaN</td>\n",
       "      <td>8.200000</td>\n",
       "      <td>3.000000</td>\n",
       "      <td>43.496426</td>\n",
       "      <td>1.350690</td>\n",
       "    </tr>\n",
       "    <tr>\n",
       "      <th>50%</th>\n",
       "      <td>NaN</td>\n",
       "      <td>NaN</td>\n",
       "      <td>NaN</td>\n",
       "      <td>8.800000</td>\n",
       "      <td>3.000000</td>\n",
       "      <td>45.187202</td>\n",
       "      <td>4.357045</td>\n",
       "    </tr>\n",
       "    <tr>\n",
       "      <th>75%</th>\n",
       "      <td>NaN</td>\n",
       "      <td>NaN</td>\n",
       "      <td>NaN</td>\n",
       "      <td>9.300000</td>\n",
       "      <td>3.000000</td>\n",
       "      <td>48.578103</td>\n",
       "      <td>5.711448</td>\n",
       "    </tr>\n",
       "    <tr>\n",
       "      <th>max</th>\n",
       "      <td>NaN</td>\n",
       "      <td>NaN</td>\n",
       "      <td>NaN</td>\n",
       "      <td>10.000000</td>\n",
       "      <td>4.000000</td>\n",
       "      <td>50.645375</td>\n",
       "      <td>7.773026</td>\n",
       "    </tr>\n",
       "  </tbody>\n",
       "</table>\n",
       "</div>"
      ],
      "text/plain": [
       "                                                hotel_url             name  \\\n",
       "count                                                 350              350   \n",
       "unique                                                350              350   \n",
       "top     https://www.booking.com/hotel/fr/hotel-saint-a...  Le Saint Aubert   \n",
       "freq                                                    1                1   \n",
       "mean                                                  NaN              NaN   \n",
       "std                                                   NaN              NaN   \n",
       "min                                                   NaN              NaN   \n",
       "25%                                                   NaN              NaN   \n",
       "50%                                                   NaN              NaN   \n",
       "75%                                                   NaN              NaN   \n",
       "max                                                   NaN              NaN   \n",
       "\n",
       "                                              description      review  \\\n",
       "count                                                 350  327.000000   \n",
       "unique                                                350         NaN   \n",
       "top     Niché dans un écrin de verdure, à seulement 2 ...         NaN   \n",
       "freq                                                    1         NaN   \n",
       "mean                                                  NaN    8.716820   \n",
       "std                                                   NaN    0.755344   \n",
       "min                                                   NaN    5.900000   \n",
       "25%                                                   NaN    8.200000   \n",
       "50%                                                   NaN    8.800000   \n",
       "75%                                                   NaN    9.300000   \n",
       "max                                                   NaN   10.000000   \n",
       "\n",
       "             stars   coord_lat   coord_lon  \n",
       "count   199.000000  350.000000  350.000000  \n",
       "unique         NaN         NaN         NaN  \n",
       "top            NaN         NaN         NaN  \n",
       "freq           NaN         NaN         NaN  \n",
       "mean      3.090452   45.839891    3.394217  \n",
       "std       0.287552    2.557849    2.903271  \n",
       "min       3.000000   42.520945   -2.025282  \n",
       "25%       3.000000   43.496426    1.350690  \n",
       "50%       3.000000   45.187202    4.357045  \n",
       "75%       3.000000   48.578103    5.711448  \n",
       "max       4.000000   50.645375    7.773026  "
      ]
     },
     "execution_count": 10,
     "metadata": {},
     "output_type": "execute_result"
    }
   ],
   "source": [
    "hotel_infos.describe(include='all')"
   ]
  },
  {
   "cell_type": "code",
   "execution_count": 11,
   "metadata": {},
   "outputs": [
    {
     "data": {
      "text/html": [
       "<div>\n",
       "<style scoped>\n",
       "    .dataframe tbody tr th:only-of-type {\n",
       "        vertical-align: middle;\n",
       "    }\n",
       "\n",
       "    .dataframe tbody tr th {\n",
       "        vertical-align: top;\n",
       "    }\n",
       "\n",
       "    .dataframe thead th {\n",
       "        text-align: right;\n",
       "    }\n",
       "</style>\n",
       "<table border=\"1\" class=\"dataframe\">\n",
       "  <thead>\n",
       "    <tr style=\"text-align: right;\">\n",
       "      <th></th>\n",
       "      <th>hotel_url</th>\n",
       "      <th>name</th>\n",
       "      <th>description</th>\n",
       "      <th>review</th>\n",
       "      <th>stars</th>\n",
       "      <th>coord_lat</th>\n",
       "      <th>coord_lon</th>\n",
       "    </tr>\n",
       "  </thead>\n",
       "  <tbody>\n",
       "    <tr>\n",
       "      <th>0</th>\n",
       "      <td>https://www.booking.com/hotel/fr/hotel-saint-a...</td>\n",
       "      <td>Le Saint Aubert</td>\n",
       "      <td>Niché dans un écrin de verdure, à seulement 2 ...</td>\n",
       "      <td>7.2</td>\n",
       "      <td>NaN</td>\n",
       "      <td>48.612938</td>\n",
       "      <td>-1.510105</td>\n",
       "    </tr>\n",
       "  </tbody>\n",
       "</table>\n",
       "</div>"
      ],
      "text/plain": [
       "                                           hotel_url             name  \\\n",
       "0  https://www.booking.com/hotel/fr/hotel-saint-a...  Le Saint Aubert   \n",
       "\n",
       "                                         description  review  stars  \\\n",
       "0  Niché dans un écrin de verdure, à seulement 2 ...     7.2    NaN   \n",
       "\n",
       "   coord_lat  coord_lon  \n",
       "0  48.612938  -1.510105  "
      ]
     },
     "execution_count": 11,
     "metadata": {},
     "output_type": "execute_result"
    }
   ],
   "source": [
    "hotel_infos.head(1)"
   ]
  },
  {
   "cell_type": "code",
   "execution_count": 12,
   "metadata": {},
   "outputs": [],
   "source": [
    "hotel_infos.to_csv('hotel_infos.csv', encoding='utf-8')"
   ]
  },
  {
   "cell_type": "code",
   "execution_count": 48,
   "metadata": {},
   "outputs": [
    {
     "data": {
      "application/vnd.plotly.v1+json": {
       "config": {
        "plotlyServerURL": "https://plot.ly"
       },
       "data": [
        {
         "hovertemplate": "review=9,9<br>coord_lat=%{lat}<br>coord_lon=%{lon}<extra></extra>",
         "lat": [
          43.21181391,
          43.565401,
          47.23366436
         ],
         "legendgroup": "9,9",
         "lon": [
          2.35220498,
          4.192973,
          6.0291489
         ],
         "marker": {
          "color": "#636efa"
         },
         "mode": "markers",
         "name": "9,9",
         "showlegend": true,
         "subplot": "mapbox",
         "type": "scattermapbox"
        },
        {
         "hovertemplate": "review=9,8<br>coord_lat=%{lat}<br>coord_lon=%{lon}<extra></extra>",
         "lat": [
          49.4859312
         ],
         "legendgroup": "9,8",
         "lon": [
          0.1064053
         ],
         "marker": {
          "color": "#EF553B"
         },
         "mode": "markers",
         "name": "9,8",
         "showlegend": true,
         "subplot": "mapbox",
         "type": "scattermapbox"
        },
        {
         "hovertemplate": "review=9,7<br>coord_lat=%{lat}<br>coord_lon=%{lon}<extra></extra>",
         "lat": [
          48.8396971,
          43.54026065,
          48.0424275,
          43.214951,
          48.5810838,
          43.5948314,
          43.8299613
         ],
         "legendgroup": "9,7",
         "lon": [
          2.2658719,
          5.43485774,
          7.308131,
          5.5422611,
          7.7451557,
          1.4463197,
          4.3550993
         ],
         "marker": {
          "color": "#00cc96"
         },
         "mode": "markers",
         "name": "9,7",
         "showlegend": true,
         "subplot": "mapbox",
         "type": "scattermapbox"
        },
        {
         "hovertemplate": "review=9,6<br>coord_lat=%{lat}<br>coord_lon=%{lon}<extra></extra>",
         "lat": [
          43.143885,
          48.33368227,
          43.78284031,
          43.08754039,
          43.1439829,
          42.90852426,
          49.4993485,
          47.3251236
         ],
         "legendgroup": "9,6",
         "lon": [
          6.353536,
          7.25640698,
          6.00388477,
          1.87135531,
          6.337272,
          1.72112612,
          0.0950514,
          5.0298068
         ],
         "marker": {
          "color": "#ab63fa"
         },
         "mode": "markers",
         "name": "9,6",
         "showlegend": true,
         "subplot": "mapbox",
         "type": "scattermapbox"
        },
        {
         "hovertemplate": "review=9,5<br>coord_lat=%{lat}<br>coord_lon=%{lon}<extra></extra>",
         "lat": [
          50.6453748
         ],
         "legendgroup": "9,5",
         "lon": [
          3.0612643
         ],
         "marker": {
          "color": "#FFA15A"
         },
         "mode": "markers",
         "name": "9,5",
         "showlegend": true,
         "subplot": "mapbox",
         "type": "scattermapbox"
        }
       ],
       "layout": {
        "legend": {
         "title": {
          "text": "review"
         },
         "tracegroupgap": 0
        },
        "mapbox": {
         "center": {
          "lat": 45.7505162625,
          "lon": 4.225406615
         },
         "domain": {
          "x": [
           0,
           1
          ],
          "y": [
           0,
           1
          ]
         },
         "style": "open-street-map",
         "zoom": 4
        },
        "margin": {
         "t": 60
        },
        "template": {
         "data": {
          "bar": [
           {
            "error_x": {
             "color": "#2a3f5f"
            },
            "error_y": {
             "color": "#2a3f5f"
            },
            "marker": {
             "line": {
              "color": "#E5ECF6",
              "width": 0.5
             },
             "pattern": {
              "fillmode": "overlay",
              "size": 10,
              "solidity": 0.2
             }
            },
            "type": "bar"
           }
          ],
          "barpolar": [
           {
            "marker": {
             "line": {
              "color": "#E5ECF6",
              "width": 0.5
             },
             "pattern": {
              "fillmode": "overlay",
              "size": 10,
              "solidity": 0.2
             }
            },
            "type": "barpolar"
           }
          ],
          "carpet": [
           {
            "aaxis": {
             "endlinecolor": "#2a3f5f",
             "gridcolor": "white",
             "linecolor": "white",
             "minorgridcolor": "white",
             "startlinecolor": "#2a3f5f"
            },
            "baxis": {
             "endlinecolor": "#2a3f5f",
             "gridcolor": "white",
             "linecolor": "white",
             "minorgridcolor": "white",
             "startlinecolor": "#2a3f5f"
            },
            "type": "carpet"
           }
          ],
          "choropleth": [
           {
            "colorbar": {
             "outlinewidth": 0,
             "ticks": ""
            },
            "type": "choropleth"
           }
          ],
          "contour": [
           {
            "colorbar": {
             "outlinewidth": 0,
             "ticks": ""
            },
            "colorscale": [
             [
              0,
              "#0d0887"
             ],
             [
              0.1111111111111111,
              "#46039f"
             ],
             [
              0.2222222222222222,
              "#7201a8"
             ],
             [
              0.3333333333333333,
              "#9c179e"
             ],
             [
              0.4444444444444444,
              "#bd3786"
             ],
             [
              0.5555555555555556,
              "#d8576b"
             ],
             [
              0.6666666666666666,
              "#ed7953"
             ],
             [
              0.7777777777777778,
              "#fb9f3a"
             ],
             [
              0.8888888888888888,
              "#fdca26"
             ],
             [
              1,
              "#f0f921"
             ]
            ],
            "type": "contour"
           }
          ],
          "contourcarpet": [
           {
            "colorbar": {
             "outlinewidth": 0,
             "ticks": ""
            },
            "type": "contourcarpet"
           }
          ],
          "heatmap": [
           {
            "colorbar": {
             "outlinewidth": 0,
             "ticks": ""
            },
            "colorscale": [
             [
              0,
              "#0d0887"
             ],
             [
              0.1111111111111111,
              "#46039f"
             ],
             [
              0.2222222222222222,
              "#7201a8"
             ],
             [
              0.3333333333333333,
              "#9c179e"
             ],
             [
              0.4444444444444444,
              "#bd3786"
             ],
             [
              0.5555555555555556,
              "#d8576b"
             ],
             [
              0.6666666666666666,
              "#ed7953"
             ],
             [
              0.7777777777777778,
              "#fb9f3a"
             ],
             [
              0.8888888888888888,
              "#fdca26"
             ],
             [
              1,
              "#f0f921"
             ]
            ],
            "type": "heatmap"
           }
          ],
          "heatmapgl": [
           {
            "colorbar": {
             "outlinewidth": 0,
             "ticks": ""
            },
            "colorscale": [
             [
              0,
              "#0d0887"
             ],
             [
              0.1111111111111111,
              "#46039f"
             ],
             [
              0.2222222222222222,
              "#7201a8"
             ],
             [
              0.3333333333333333,
              "#9c179e"
             ],
             [
              0.4444444444444444,
              "#bd3786"
             ],
             [
              0.5555555555555556,
              "#d8576b"
             ],
             [
              0.6666666666666666,
              "#ed7953"
             ],
             [
              0.7777777777777778,
              "#fb9f3a"
             ],
             [
              0.8888888888888888,
              "#fdca26"
             ],
             [
              1,
              "#f0f921"
             ]
            ],
            "type": "heatmapgl"
           }
          ],
          "histogram": [
           {
            "marker": {
             "pattern": {
              "fillmode": "overlay",
              "size": 10,
              "solidity": 0.2
             }
            },
            "type": "histogram"
           }
          ],
          "histogram2d": [
           {
            "colorbar": {
             "outlinewidth": 0,
             "ticks": ""
            },
            "colorscale": [
             [
              0,
              "#0d0887"
             ],
             [
              0.1111111111111111,
              "#46039f"
             ],
             [
              0.2222222222222222,
              "#7201a8"
             ],
             [
              0.3333333333333333,
              "#9c179e"
             ],
             [
              0.4444444444444444,
              "#bd3786"
             ],
             [
              0.5555555555555556,
              "#d8576b"
             ],
             [
              0.6666666666666666,
              "#ed7953"
             ],
             [
              0.7777777777777778,
              "#fb9f3a"
             ],
             [
              0.8888888888888888,
              "#fdca26"
             ],
             [
              1,
              "#f0f921"
             ]
            ],
            "type": "histogram2d"
           }
          ],
          "histogram2dcontour": [
           {
            "colorbar": {
             "outlinewidth": 0,
             "ticks": ""
            },
            "colorscale": [
             [
              0,
              "#0d0887"
             ],
             [
              0.1111111111111111,
              "#46039f"
             ],
             [
              0.2222222222222222,
              "#7201a8"
             ],
             [
              0.3333333333333333,
              "#9c179e"
             ],
             [
              0.4444444444444444,
              "#bd3786"
             ],
             [
              0.5555555555555556,
              "#d8576b"
             ],
             [
              0.6666666666666666,
              "#ed7953"
             ],
             [
              0.7777777777777778,
              "#fb9f3a"
             ],
             [
              0.8888888888888888,
              "#fdca26"
             ],
             [
              1,
              "#f0f921"
             ]
            ],
            "type": "histogram2dcontour"
           }
          ],
          "mesh3d": [
           {
            "colorbar": {
             "outlinewidth": 0,
             "ticks": ""
            },
            "type": "mesh3d"
           }
          ],
          "parcoords": [
           {
            "line": {
             "colorbar": {
              "outlinewidth": 0,
              "ticks": ""
             }
            },
            "type": "parcoords"
           }
          ],
          "pie": [
           {
            "automargin": true,
            "type": "pie"
           }
          ],
          "scatter": [
           {
            "fillpattern": {
             "fillmode": "overlay",
             "size": 10,
             "solidity": 0.2
            },
            "type": "scatter"
           }
          ],
          "scatter3d": [
           {
            "line": {
             "colorbar": {
              "outlinewidth": 0,
              "ticks": ""
             }
            },
            "marker": {
             "colorbar": {
              "outlinewidth": 0,
              "ticks": ""
             }
            },
            "type": "scatter3d"
           }
          ],
          "scattercarpet": [
           {
            "marker": {
             "colorbar": {
              "outlinewidth": 0,
              "ticks": ""
             }
            },
            "type": "scattercarpet"
           }
          ],
          "scattergeo": [
           {
            "marker": {
             "colorbar": {
              "outlinewidth": 0,
              "ticks": ""
             }
            },
            "type": "scattergeo"
           }
          ],
          "scattergl": [
           {
            "marker": {
             "colorbar": {
              "outlinewidth": 0,
              "ticks": ""
             }
            },
            "type": "scattergl"
           }
          ],
          "scattermapbox": [
           {
            "marker": {
             "colorbar": {
              "outlinewidth": 0,
              "ticks": ""
             }
            },
            "type": "scattermapbox"
           }
          ],
          "scatterpolar": [
           {
            "marker": {
             "colorbar": {
              "outlinewidth": 0,
              "ticks": ""
             }
            },
            "type": "scatterpolar"
           }
          ],
          "scatterpolargl": [
           {
            "marker": {
             "colorbar": {
              "outlinewidth": 0,
              "ticks": ""
             }
            },
            "type": "scatterpolargl"
           }
          ],
          "scatterternary": [
           {
            "marker": {
             "colorbar": {
              "outlinewidth": 0,
              "ticks": ""
             }
            },
            "type": "scatterternary"
           }
          ],
          "surface": [
           {
            "colorbar": {
             "outlinewidth": 0,
             "ticks": ""
            },
            "colorscale": [
             [
              0,
              "#0d0887"
             ],
             [
              0.1111111111111111,
              "#46039f"
             ],
             [
              0.2222222222222222,
              "#7201a8"
             ],
             [
              0.3333333333333333,
              "#9c179e"
             ],
             [
              0.4444444444444444,
              "#bd3786"
             ],
             [
              0.5555555555555556,
              "#d8576b"
             ],
             [
              0.6666666666666666,
              "#ed7953"
             ],
             [
              0.7777777777777778,
              "#fb9f3a"
             ],
             [
              0.8888888888888888,
              "#fdca26"
             ],
             [
              1,
              "#f0f921"
             ]
            ],
            "type": "surface"
           }
          ],
          "table": [
           {
            "cells": {
             "fill": {
              "color": "#EBF0F8"
             },
             "line": {
              "color": "white"
             }
            },
            "header": {
             "fill": {
              "color": "#C8D4E3"
             },
             "line": {
              "color": "white"
             }
            },
            "type": "table"
           }
          ]
         },
         "layout": {
          "annotationdefaults": {
           "arrowcolor": "#2a3f5f",
           "arrowhead": 0,
           "arrowwidth": 1
          },
          "autotypenumbers": "strict",
          "coloraxis": {
           "colorbar": {
            "outlinewidth": 0,
            "ticks": ""
           }
          },
          "colorscale": {
           "diverging": [
            [
             0,
             "#8e0152"
            ],
            [
             0.1,
             "#c51b7d"
            ],
            [
             0.2,
             "#de77ae"
            ],
            [
             0.3,
             "#f1b6da"
            ],
            [
             0.4,
             "#fde0ef"
            ],
            [
             0.5,
             "#f7f7f7"
            ],
            [
             0.6,
             "#e6f5d0"
            ],
            [
             0.7,
             "#b8e186"
            ],
            [
             0.8,
             "#7fbc41"
            ],
            [
             0.9,
             "#4d9221"
            ],
            [
             1,
             "#276419"
            ]
           ],
           "sequential": [
            [
             0,
             "#0d0887"
            ],
            [
             0.1111111111111111,
             "#46039f"
            ],
            [
             0.2222222222222222,
             "#7201a8"
            ],
            [
             0.3333333333333333,
             "#9c179e"
            ],
            [
             0.4444444444444444,
             "#bd3786"
            ],
            [
             0.5555555555555556,
             "#d8576b"
            ],
            [
             0.6666666666666666,
             "#ed7953"
            ],
            [
             0.7777777777777778,
             "#fb9f3a"
            ],
            [
             0.8888888888888888,
             "#fdca26"
            ],
            [
             1,
             "#f0f921"
            ]
           ],
           "sequentialminus": [
            [
             0,
             "#0d0887"
            ],
            [
             0.1111111111111111,
             "#46039f"
            ],
            [
             0.2222222222222222,
             "#7201a8"
            ],
            [
             0.3333333333333333,
             "#9c179e"
            ],
            [
             0.4444444444444444,
             "#bd3786"
            ],
            [
             0.5555555555555556,
             "#d8576b"
            ],
            [
             0.6666666666666666,
             "#ed7953"
            ],
            [
             0.7777777777777778,
             "#fb9f3a"
            ],
            [
             0.8888888888888888,
             "#fdca26"
            ],
            [
             1,
             "#f0f921"
            ]
           ]
          },
          "colorway": [
           "#636efa",
           "#EF553B",
           "#00cc96",
           "#ab63fa",
           "#FFA15A",
           "#19d3f3",
           "#FF6692",
           "#B6E880",
           "#FF97FF",
           "#FECB52"
          ],
          "font": {
           "color": "#2a3f5f"
          },
          "geo": {
           "bgcolor": "white",
           "lakecolor": "white",
           "landcolor": "#E5ECF6",
           "showlakes": true,
           "showland": true,
           "subunitcolor": "white"
          },
          "hoverlabel": {
           "align": "left"
          },
          "hovermode": "closest",
          "mapbox": {
           "style": "light"
          },
          "paper_bgcolor": "white",
          "plot_bgcolor": "#E5ECF6",
          "polar": {
           "angularaxis": {
            "gridcolor": "white",
            "linecolor": "white",
            "ticks": ""
           },
           "bgcolor": "#E5ECF6",
           "radialaxis": {
            "gridcolor": "white",
            "linecolor": "white",
            "ticks": ""
           }
          },
          "scene": {
           "xaxis": {
            "backgroundcolor": "#E5ECF6",
            "gridcolor": "white",
            "gridwidth": 2,
            "linecolor": "white",
            "showbackground": true,
            "ticks": "",
            "zerolinecolor": "white"
           },
           "yaxis": {
            "backgroundcolor": "#E5ECF6",
            "gridcolor": "white",
            "gridwidth": 2,
            "linecolor": "white",
            "showbackground": true,
            "ticks": "",
            "zerolinecolor": "white"
           },
           "zaxis": {
            "backgroundcolor": "#E5ECF6",
            "gridcolor": "white",
            "gridwidth": 2,
            "linecolor": "white",
            "showbackground": true,
            "ticks": "",
            "zerolinecolor": "white"
           }
          },
          "shapedefaults": {
           "line": {
            "color": "#2a3f5f"
           }
          },
          "ternary": {
           "aaxis": {
            "gridcolor": "white",
            "linecolor": "white",
            "ticks": ""
           },
           "baxis": {
            "gridcolor": "white",
            "linecolor": "white",
            "ticks": ""
           },
           "bgcolor": "#E5ECF6",
           "caxis": {
            "gridcolor": "white",
            "linecolor": "white",
            "ticks": ""
           }
          },
          "title": {
           "x": 0.05
          },
          "xaxis": {
           "automargin": true,
           "gridcolor": "white",
           "linecolor": "white",
           "ticks": "",
           "title": {
            "standoff": 15
           },
           "zerolinecolor": "white",
           "zerolinewidth": 2
          },
          "yaxis": {
           "automargin": true,
           "gridcolor": "white",
           "linecolor": "white",
           "ticks": "",
           "title": {
            "standoff": 15
           },
           "zerolinecolor": "white",
           "zerolinewidth": 2
          }
         }
        },
        "width": 800
       }
      }
     },
     "metadata": {},
     "output_type": "display_data"
    }
   ],
   "source": [
    "fig_hotels = px.scatter_mapbox(\n",
    "        hotel_tops,\n",
    "        lat=hotel_tops[\"coord_lat\"],\n",
    "        lon=hotel_tops[\"coord_lon\"],\n",
    "        color=\"review\",\n",
    "        mapbox_style=\"open-street-map\",\n",
    "        color_continuous_scale=px.colors.sequential.Blues,\n",
    "        zoom=4,\n",
    "        width=800\n",
    "    )\n",
    "fig_hotels.show()"
   ]
  },
  {
   "cell_type": "code",
   "execution_count": null,
   "metadata": {},
   "outputs": [],
   "source": []
  },
  {
   "cell_type": "code",
   "execution_count": null,
   "metadata": {},
   "outputs": [],
   "source": []
  }
 ],
 "metadata": {
  "kernelspec": {
   "display_name": "Python 3",
   "language": "python",
   "name": "python3"
  },
  "language_info": {
   "codemirror_mode": {
    "name": "ipython",
    "version": 3
   },
   "file_extension": ".py",
   "mimetype": "text/x-python",
   "name": "python",
   "nbconvert_exporter": "python",
   "pygments_lexer": "ipython3",
   "version": "3.11.9"
  }
 },
 "nbformat": 4,
 "nbformat_minor": 4
}
